{
 "cells": [
  {
   "cell_type": "code",
   "execution_count": null,
   "metadata": {},
   "outputs": [],
   "source": [
    "import boto3\n",
    "import os\n",
    "import gzip\n",
    "import shutil\n",
    "\n",
    "# AWS credentials\n",
    "aws_access_key_id = ''\n",
    "aws_secret_access_key = ''\n",
    "region_name = ''  # e.g., 'us-east-1'\n",
    "\n",
    "# Initialize the S3 client with your AWS credentials\n",
    "s3 = boto3.client('s3', aws_access_key_id=aws_access_key_id, aws_secret_access_key=aws_secret_access_key)\n",
    "\n",
    "# Bucket name and object key\n",
    "bucket_name = 'your_bucket_name'\n",
    "object_key = 'path/to/your/file.z'\n",
    "\n",
    "# Local file paths\n",
    "downloaded_file_path = 'downloaded_file.z'\n",
    "csv_file_path = 'converted_file.csv'\n",
    "\n",
    "# Download the .z file from S3\n",
    "s3.download_file(bucket_name, object_key, downloaded_file_path)\n",
    "\n",
    "# Extract the .z file\n",
    "with gzip.open(downloaded_file_path, 'rb') as f_in:\n",
    "    with open(csv_file_path, 'wb') as f_out:\n",
    "        shutil.copyfileobj(f_in, f_out)\n",
    "\n",
    "print(\"File downloaded and converted successfully.\")\n"
   ]
  }
 ],
 "metadata": {
  "language_info": {
   "name": "python"
  }
 },
 "nbformat": 4,
 "nbformat_minor": 2
}
