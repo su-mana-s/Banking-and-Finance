{
 "cells": [
  {
   "cell_type": "code",
   "execution_count": 7,
   "metadata": {},
   "outputs": [],
   "source": [
    "import requests\n",
    "from bs4 import BeautifulSoup\n",
    "import pandas as pd\n",
    "import re\n",
    "from selenium import webdriver\n",
    "from selenium.webdriver.chrome.service import Service\n",
    "from webdriver_manager.chrome import ChromeDriverManager\n",
    "from selenium.webdriver.common.by import By\n",
    "from selenium.webdriver.support.ui import WebDriverWait\n",
    "from selenium.webdriver.support import expected_conditions as EC\n",
    "from selenium.webdriver.common import action_chains\n"
   ]
  },
  {
   "cell_type": "code",
   "execution_count": 8,
   "metadata": {},
   "outputs": [
    {
     "data": {
      "text/plain": [
       "'c:\\\\Users\\\\18055\\\\AppData\\\\Local\\\\Programs\\\\Python\\\\Python39\\\\lib\\\\site-packages\\\\chromedriver_autoinstaller\\\\123\\\\chromedriver.exe'"
      ]
     },
     "execution_count": 8,
     "metadata": {},
     "output_type": "execute_result"
    }
   ],
   "source": [
    "from selenium import webdriver\n",
    "import chromedriver_autoinstaller\n",
    "\n",
    "\n",
    "chromedriver_autoinstaller.install()  # Check if the current version of chromedriver exists\n",
    "                                      # and if it doesn't exist, download it automatically,\n",
    "                                      # then add chromedriver to path\n"
   ]
  },
  {
   "cell_type": "code",
   "execution_count": 16,
   "metadata": {},
   "outputs": [],
   "source": [
    "headers={\"user-agent\": \"Mozilla/5.0 (Windows NT 10.0; Win64; x64) AppleWebKit/537.36 (KHTML, like Gecko) Chrome/95.0.4638.54 Safari/537.36\"}\n",
    "url ='https://finance.yahoo.com/quote/BAC/financials'\n",
    "page = requests.get(url, headers=headers)\n",
    "soup = BeautifulSoup(page.content, 'html.parser')\n",
    "\n",
    "# print(soup.prettify())"
   ]
  },
  {
   "cell_type": "code",
   "execution_count": 20,
   "metadata": {},
   "outputs": [],
   "source": [
    "# header = [hd.get_text() for hd in soup.find('div', class_ = \"D(tbr) C($primaryColor)\").find_all('span')]\n",
    "# header.remove('ttm')\n",
    "# header = [\"Tag\", '12/31/2023', '12/31/2022', '12/31/2021', '12/31/2020']\n",
    "#columns"
   ]
  },
  {
   "cell_type": "code",
   "execution_count": 6,
   "metadata": {},
   "outputs": [],
   "source": [
    "\n",
    "# df = pd.DataFrame(columns = header)\n",
    "# df"
   ]
  },
  {
   "cell_type": "code",
   "execution_count": 7,
   "metadata": {},
   "outputs": [
    {
     "name": "stdout",
     "output_type": "stream",
     "text": [
      "['Total Revenue', 'Credit Losses Provision', 'Non Interest Expense', 'Pretax Income', 'Tax Provision', 'Net Income Common Stockholders', 'Diluted NI Available to Com Stockholders', 'Basic EPS', 'Diluted EPS', 'Basic Average Shares', 'Diluted Average Shares', 'Interest Income after Provision for Loan Loss', 'Net Income from Continuing & Discontinued Operation', 'Normalized Income', 'Total Money Market Investments', 'Reconciled Depreciation', 'Net Income from Continuing Operation Net Minority Interest', 'Tax Rate for Calcs', 'Tax Effect of Unusual Items']\n"
     ]
    }
   ],
   "source": [
    "# div2 = soup.find('div', class_ = \"D(tbrg)\")\n",
    "# # print(div2)\n",
    "\n",
    "# breakdown = [bd.get_text() for bd in div2.find_all('span', class_ = \"Va(m)\")]\n",
    "# print(breakdown)\n"
   ]
  },
  {
   "cell_type": "code",
   "execution_count": 8,
   "metadata": {},
   "outputs": [],
   "source": [
    "# three_cols = [bd.get_text() for bd in div2.find_all('div', class_ = \"Ta(c) Py(6px) Bxz(bb) BdB Bdc($seperatorColor) Miw(120px) Miw(100px)--pnclg Bgc($lv1BgColor) fi-row:h_Bgc($hoverBgColor) D(tbc)\")]\n",
    "# ttm = three_cols[::3]\n",
    "# # print(ttm)\n",
    " \n",
    "# col22 = three_cols[1::3]\n",
    "# # print(col22[:3])\n",
    "\n",
    "# col20 = three_cols[2::3]\n",
    "# #print(col17[:3])\n",
    "\n",
    "# two_cols = [bd.get_text() for bd in div2.find_all('div', class_=\"Ta(c) Py(6px) Bxz(bb) BdB Bdc($seperatorColor) Miw(120px) Miw(100px)--pnclg D(tbc)\")]\n",
    "# # print(two_cols)\n",
    "\n",
    "# col23 = two_cols[::2]\n",
    "# # print(col23)\n",
    "\n",
    "# col21 = two_cols[1::2]\n",
    "# # print(col21)\n",
    "\n",
    "# # data = {\n",
    "# #     'Breakdown': breakdown,\n",
    "# #     'TTM': ttm,\n",
    "# #     '12/31/2020': col20,\n",
    "# #     '12/31/2019': col19,\n",
    "# #     '12/31/2018': col18,\n",
    "# #     '12/31/2017': col17\n",
    "# # }\n",
    "\n",
    "# temp_df = pd.DataFrame(list(zip(breakdown, ttm, col23, col22, col21, col20)), columns=header)\n",
    "# # df = pd.concat([df, temp_df], ignore_index = True)\n",
    "# # df\n",
    "# temp_df.shape"
   ]
  },
  {
   "cell_type": "markdown",
   "metadata": {},
   "source": [
    "The Buttons! We missed the Buttons!!!"
   ]
  },
  {
   "cell_type": "code",
   "execution_count": 9,
   "metadata": {},
   "outputs": [],
   "source": [
    "# but = [bd for bd in div2.find_all('button')]\n",
    "# labels = [ele['aria-label'] for ele in but]\n",
    "# labels"
   ]
  },
  {
   "cell_type": "code",
   "execution_count": 10,
   "metadata": {},
   "outputs": [],
   "source": [
    "# !pip install chromedriver_autoinstall"
   ]
  },
  {
   "cell_type": "code",
   "execution_count": 11,
   "metadata": {},
   "outputs": [],
   "source": [
    "def scrape(symbol, financials):\n",
    "    # create a new  session\n",
    "    # driver = webdriver.Chrome(ChromeDriverManager().install())\n",
    "    # driver = webdriver.Chrome(r\"c:/18055/Downloads/chromedriver_win32/chromedriver.exe\")\n",
    "    # driver = webdriver.Chrome(ChromeDriverManager(driver_version='114.0.5735.90').install(), options=option)\n",
    "    url =f'https://finance.yahoo.com/quote/{symbol}/{financials}'\n",
    "    # driver = webdriver.Chrome()\n",
    "    # driver.implicitly_wait(30)\n",
    "    driver = webdriver.Chrome()\n",
    "    driver.get(url)\n",
    "    # driver.implicitly_wait(30)\n",
    "\n",
    "    # browser.get(url)\n",
    "\n",
    "    # Get button and click it\n",
    "    # python_button = driver.find_element_by_id(\"button\")\n",
    "    # python_button\n",
    "    # python_button.click() #click load more button\n",
    "\n",
    "    #click all drop buttons\n",
    "    def get_labels():\n",
    "        div2 = driver.find_element(By.CSS_SELECTOR, 'div[class=\"D(tbrg)\"]')\n",
    "        but = [bd for bd in div2.find_elements(By.CSS_SELECTOR, 'button')]\n",
    "        labels = [ele.get_attribute('aria-label') for ele in but]\n",
    "        # labels = [ele['aria-label'] for ele in but]\n",
    "        return labels\n",
    "\n",
    "    def click_buttons(labels):\n",
    "        for label in labels:\n",
    "            css = f'button[aria-label=\"{label}\"]'\n",
    "            b = driver.find_element(By.CSS_SELECTOR, css)\n",
    "\n",
    "            driver.maximize_window()\n",
    "\n",
    "\n",
    "            # actions = action_chains.ActionChains(driver)\n",
    "            # actions.move_to_element(b)\n",
    "            # actions.perform()\n",
    "            # p = b.location\n",
    "            # print(p)\n",
    "            # actions.move_to_element(b).move_by_offset(p['x'],p['y']).click().perform()\n",
    "            \n",
    "            #scrolling\n",
    "            driver.execute_script(\"arguments[0].click();\", b)\n",
    "            #apparently using js removes the need of scrolling - prolly has better brains\n",
    "            # b.location_once_scrolled_into_view\n",
    "\n",
    "\n",
    "            # driverWait = WebDriverWait(driver, 10)\n",
    "            # driverWait.until(EC.invisibility_of_element_located(b))\n",
    "            # driverWait.until(EC.element_to_be_clickable(b)).click()\n",
    "            \"\"\"i think the prob lies with the viewport. Stupid thing is not scrolling to given element.\n",
    "             So, I m thinking that even if you get the location and ask it to go there, it wont cos it cant see.\n",
    "             Maximising window wont always work, besides its a very inelegant solution\n",
    "               Stupid blind thing\n",
    "                \"\"\"\n",
    "\n",
    "            # b.click()\n",
    "\n",
    "    labels = get_labels()\n",
    "    l_count_1 = 1\n",
    "    l_count_0 = 0\n",
    "    click_buttons(labels)\n",
    "    labels_0 = labels\n",
    "    while l_count_1 != l_count_0:\n",
    "        labels_1 = get_labels()\n",
    "        labels = [x for x in labels_1 if x not in labels_0]\n",
    "        click_buttons(labels)\n",
    "        l_count_0 = len(labels_0)\n",
    "        l_count_1 = len(labels_1)\n",
    "        labels_0 = labels_1\n",
    "\n",
    "    div_exp = driver.find_elements(By.CSS_SELECTOR, \"span[class='Va(m)'\")\n",
    "    texts = [span_obj.text for span_obj in div_exp]\n",
    "    \n",
    "    div2 = driver.find_element(By.CSS_SELECTOR, 'div[class=\"D(tbrg)\"]')\n",
    "\n",
    "    three_cols = [bd.text for bd in div2.find_elements(By.CSS_SELECTOR, 'div[class=\"Ta(c) Py(6px) Bxz(bb) BdB Bdc($seperatorColor) Miw(120px) Miw(100px)--pnclg Bgc($lv1BgColor) fi-row:h_Bgc($hoverBgColor) D(tbc)\"]')]\n",
    "    # ttm = three_cols[::3]\n",
    "    col22 = three_cols[1::3]\n",
    "    \n",
    "    col20 = three_cols[2::3]\n",
    "    two_cols = [bd.text for bd in div2.find_elements(By.CSS_SELECTOR, 'div[class=\"Ta(c) Py(6px) Bxz(bb) BdB Bdc($seperatorColor) Miw(120px) Miw(100px)--pnclg D(tbc)\"]')]\n",
    "    col23 = two_cols[::2]\n",
    "    col21 = two_cols[1::2]\n",
    "    temp_df = pd.DataFrame(list(zip(texts, col23, col22, col21, col20)), columns=header)\n",
    "    # sym = [symbol for i in range(len(col22))]\n",
    "    sym = [symbol for i in range(temp_df.shape[0])]\n",
    "    temp_df.insert(1, 'Bank', sym, allow_duplicates=True)\n",
    "    return temp_df"
   ]
  },
  {
   "cell_type": "code",
   "execution_count": 12,
   "metadata": {},
   "outputs": [],
   "source": [
    "# df = scrape('WFC', 'balance-sheet')"
   ]
  },
  {
   "cell_type": "code",
   "execution_count": 13,
   "metadata": {},
   "outputs": [
    {
     "data": {
      "text/plain": [
       "'have removed TTM col(i dont really know what that is)\\nWill need to pass all 3 diff financials to get separate dfs and write to csvs\\nSome companies dont have updated info- they seem to have submitted annual reports in march cycles\\nAnd they have only 3 years- would have to remove those banks on the  fly'"
      ]
     },
     "execution_count": 13,
     "metadata": {},
     "output_type": "execute_result"
    }
   ],
   "source": [
    "\"\"\"have removed TTM col(i dont really know what that is)\n",
    "Will need to pass all 3 diff financials to get separate dfs and write to csvs\n",
    "Some companies dont have updated info- they seem to have submitted annual reports in march cycles\n",
    "And they have only 3 years- would have to remove those banks on the  fly\"\"\""
   ]
  },
  {
   "cell_type": "code",
   "execution_count": 14,
   "metadata": {},
   "outputs": [],
   "source": [
    "def scrape_1_stmt(financials): #scrapes 1 stmt for all banks and returns df\n",
    "    #rem ry, \n",
    "    symbols = []\n",
    "    # symbols = ['WFC', 'JPM', 'HSBC', 'MS', 'GS', 'SCHW', 'MUFG', 'C', 'TD', 'UBS', 'IBN', 'BNPQY', 'SMFG', 'BMO', 'BBVA', 'USB', 'UNCRY','ITUB', 'PNC', 'BNS', 'NU', 'ING', 'TFC', 'IBKR', 'BSBR', 'BCS', 'DB']\n",
    "    # SYMBOLS FROM https://finance.yahoo.com/u/yahoo-finance/watchlists/bank-and-financial-services-stocks/\n",
    "    # also consider https://www.ffiec.gov/npw/Institution/TopHoldings\n",
    "    # len(symbols) #29 + BAC -> 30\n",
    "\n",
    "    \n",
    "    df = scrape('BAC', financials)\n",
    "    for symbol in symbols:\n",
    "        n_df = scrape(symbol, financials)\n",
    "        df = pd.concat([df, n_df], ignore_index=True)\n",
    "\n",
    "    return df\n",
    "\n",
    "financials = 'balance-sheet' # financials, cash-flow, balance-sheet\n",
    "df = scrape_1_stmt(financials)\n",
    "# over 1 min for 1 bank. can you use multiple threads in sel?:')"
   ]
  },
  {
   "cell_type": "code",
   "execution_count": 16,
   "metadata": {},
   "outputs": [
    {
     "data": {
      "text/html": [
       "<div>\n",
       "<style scoped>\n",
       "    .dataframe tbody tr th:only-of-type {\n",
       "        vertical-align: middle;\n",
       "    }\n",
       "\n",
       "    .dataframe tbody tr th {\n",
       "        vertical-align: top;\n",
       "    }\n",
       "\n",
       "    .dataframe thead th {\n",
       "        text-align: right;\n",
       "    }\n",
       "</style>\n",
       "<table border=\"1\" class=\"dataframe\">\n",
       "  <thead>\n",
       "    <tr style=\"text-align: right;\">\n",
       "      <th></th>\n",
       "      <th>Breakdown</th>\n",
       "      <th>Bank</th>\n",
       "      <th>12/31/2023</th>\n",
       "      <th>12/31/2022</th>\n",
       "      <th>12/31/2021</th>\n",
       "      <th>12/31/2020</th>\n",
       "    </tr>\n",
       "  </thead>\n",
       "  <tbody>\n",
       "    <tr>\n",
       "      <th>0</th>\n",
       "      <td>Total Assets</td>\n",
       "      <td>BAC</td>\n",
       "      <td>3,180,151,000</td>\n",
       "      <td>2,819,627,000</td>\n",
       "      <td>3,169,495,000</td>\n",
       "      <td>505,036,000</td>\n",
       "    </tr>\n",
       "    <tr>\n",
       "      <th>1</th>\n",
       "      <td>Cash, Cash Equivalents &amp; Federal Funds Sold</td>\n",
       "      <td>BAC</td>\n",
       "      <td>622,043,000</td>\n",
       "      <td>237,462,000</td>\n",
       "      <td>606,085,000</td>\n",
       "      <td>387,009,000</td>\n",
       "    </tr>\n",
       "    <tr>\n",
       "      <th>2</th>\n",
       "      <td>Cash And Cash Equivalents</td>\n",
       "      <td>BAC</td>\n",
       "      <td>341,419,000</td>\n",
       "      <td>36,430,000</td>\n",
       "      <td>355,365,000</td>\n",
       "      <td>199,869,000</td>\n",
       "    </tr>\n",
       "    <tr>\n",
       "      <th>3</th>\n",
       "      <td>Cash</td>\n",
       "      <td>BAC</td>\n",
       "      <td>27,892,000</td>\n",
       "      <td>7,259,000</td>\n",
       "      <td>29,222,000</td>\n",
       "      <td>6,546,000</td>\n",
       "    </tr>\n",
       "    <tr>\n",
       "      <th>4</th>\n",
       "      <td>Cash And Due from Banks</td>\n",
       "      <td>BAC</td>\n",
       "      <td>305,181,000</td>\n",
       "      <td>304,058,000</td>\n",
       "      <td>318,999,000</td>\n",
       "      <td>1,043,422,000</td>\n",
       "    </tr>\n",
       "  </tbody>\n",
       "</table>\n",
       "</div>"
      ],
      "text/plain": [
       "                                     Breakdown Bank     12/31/2023  \\\n",
       "0                                 Total Assets  BAC  3,180,151,000   \n",
       "1  Cash, Cash Equivalents & Federal Funds Sold  BAC    622,043,000   \n",
       "2                    Cash And Cash Equivalents  BAC    341,419,000   \n",
       "3                                         Cash  BAC     27,892,000   \n",
       "4                      Cash And Due from Banks  BAC    305,181,000   \n",
       "\n",
       "      12/31/2022     12/31/2021     12/31/2020  \n",
       "0  2,819,627,000  3,169,495,000    505,036,000  \n",
       "1    237,462,000    606,085,000    387,009,000  \n",
       "2     36,430,000    355,365,000    199,869,000  \n",
       "3      7,259,000     29,222,000      6,546,000  \n",
       "4    304,058,000    318,999,000  1,043,422,000  "
      ]
     },
     "execution_count": 16,
     "metadata": {},
     "output_type": "execute_result"
    }
   ],
   "source": [
    "df.head()   "
   ]
  },
  {
   "cell_type": "code",
   "execution_count": 17,
   "metadata": {},
   "outputs": [],
   "source": [
    "df.to_csv(\"../../data/raw/fin_statements/balance_sheet.csv\", index=False)"
   ]
  },
  {
   "cell_type": "markdown",
   "metadata": {},
   "source": [
    "### Balance sheets"
   ]
  },
  {
   "cell_type": "code",
   "execution_count": 46,
   "metadata": {},
   "outputs": [],
   "source": [
    "def bs(symbol, financials):\n",
    "    # create a new  session\n",
    "    # driver = webdriver.Chrome(ChromeDriverManager().install())\n",
    "    # driver = webdriver.Chrome(r\"c:/18055/Downloads/chromedriver_win32/chromedriver.exe\")\n",
    "    # driver = webdriver.Chrome(ChromeDriverManager(driver_version='114.0.5735.90').install(), options=option)\n",
    "    url =f'https://finance.yahoo.com/quote/{symbol}/{financials}'\n",
    "    # driver = webdriver.Chrome()\n",
    "    # driver.implicitly_wait(30)\n",
    "    driver = webdriver.Chrome()\n",
    "    driver.get(url)\n",
    "    header = [\"Tag\", '12/31/2023', '12/31/2022', '12/31/2021', '12/31/2020']\n",
    "    # driver.implicitly_wait(30)\n",
    "\n",
    "    # browser.get(url)\n",
    "\n",
    "    # Get button and click it\n",
    "    # python_button = driver.find_element_by_id(\"button\")\n",
    "    # python_button\n",
    "    # python_button.click() #click load more button\n",
    "\n",
    "    #click all drop buttons\n",
    "    def get_labels():\n",
    "        div2 = driver.find_element(By.CSS_SELECTOR, 'div[class=\"tableBody svelte-1pgoo1f\"]')\n",
    "        but = [bd for bd in div2.find_elements(By.CSS_SELECTOR, 'button')]\n",
    "        labels = [ele.get_attribute('aria-label') for ele in but]\n",
    "        # labels = [ele['aria-label'] for ele in but]\n",
    "        return labels\n",
    "\n",
    "    def click_buttons(labels):\n",
    "        for label in labels:\n",
    "            css = f'button[aria-label=\"{label}\"]'\n",
    "            b = driver.find_element(By.CSS_SELECTOR, css)\n",
    "\n",
    "            driver.maximize_window()\n",
    "\n",
    "\n",
    "            # actions = action_chains.ActionChains(driver)\n",
    "            # actions.move_to_element(b)\n",
    "            # actions.perform()\n",
    "            # p = b.location\n",
    "            # print(p)\n",
    "            # actions.move_to_element(b).move_by_offset(p['x'],p['y']).click().perform()\n",
    "            \n",
    "            #scrolling\n",
    "            driver.execute_script(\"arguments[0].click();\", b)\n",
    "            #apparently using js removes the need of scrolling - prolly has better brains\n",
    "            # b.location_once_scrolled_into_view\n",
    "\n",
    "\n",
    "            # driverWait = WebDriverWait(driver, 10)\n",
    "            # driverWait.until(EC.invisibility_of_element_located(b))\n",
    "            # driverWait.until(EC.element_to_be_clickable(b)).click()\n",
    "            \"\"\"i think the prob lies with the viewport. Stupid thing is not scrolling to given element.\n",
    "             So, I m thinking that even if you get the location and ask it to go there, it wont cos it cant see.\n",
    "             Maximising window wont always work, besides its a very inelegant solution\n",
    "               Stupid blind thing\n",
    "                \"\"\"\n",
    "\n",
    "            # b.click()\n",
    "\n",
    "    labels = get_labels()\n",
    "    l_count_1 = 1\n",
    "    l_count_0 = 0\n",
    "    click_buttons(labels)\n",
    "    labels_0 = labels\n",
    "    while l_count_1 != l_count_0:\n",
    "        labels_1 = get_labels()\n",
    "        labels = [x for x in labels_1 if x not in labels_0]\n",
    "        click_buttons(labels)\n",
    "        l_count_0 = len(labels_0)\n",
    "        l_count_1 = len(labels_1)\n",
    "        labels_0 = labels_1\n",
    "\n",
    "    div_exp = driver.find_elements(By.CSS_SELECTOR, 'div[class=\"rowTitle svelte-1xjz32c\"]')\n",
    "    texts = [span_obj.text for span_obj in div_exp]\n",
    "    \n",
    "    div2 = driver.find_element(By.CSS_SELECTOR, 'div[class=\"tableBody svelte-1pgoo1f\"]')\n",
    "\n",
    "    three_cols = [bd.text for bd in div2.find_elements(By.CSS_SELECTOR, 'div[class=\"column svelte-1xjz32c\"]')]\n",
    "    # ttm = three_cols[::3]\n",
    "    col22 = three_cols[::2]\n",
    "    col20 = three_cols[1::2]\n",
    "\n",
    "    two_cols = [bd.text for bd in div2.find_elements(By.CSS_SELECTOR, 'div[class=\"column svelte-1xjz32c alt\"]')]\n",
    "    col23 = two_cols[::2]\n",
    "    col21 = two_cols[1::2]\n",
    "    temp_df = pd.DataFrame(list(zip(texts, col23, col22, col21, col20)), columns=header)\n",
    "    print(texts, col23, col22, col21, col20)\n",
    "    # sym = [symbol for i in range(len(col22))]\n",
    "    sym = [symbol for i in range(temp_df.shape[0])]\n",
    "    temp_df.insert(1, 'Bank', sym, allow_duplicates=True)\n",
    "    return temp_df"
   ]
  },
  {
   "cell_type": "code",
   "execution_count": 51,
   "metadata": {},
   "outputs": [],
   "source": [
    "def scrape_1_stmt(financials): #scrapes 1 stmt for all banks and returns df\n",
    "    #rem ry, \n",
    "    # symbols = []\n",
    "    symbols = ['WFC', 'JPM', 'HSBC', 'MS', 'GS', 'SCHW', 'MUFG', 'C', 'TD', 'UBS', 'IBN', 'BNPQY', 'SMFG', 'BMO', 'BBVA', 'USB', 'UNCRY','ITUB', 'PNC', 'BNS', 'NU', 'ING', 'TFC', 'IBKR', 'BSBR', 'BCS', 'DB']\n",
    "    # SYMBOLS FROM https://finance.yahoo.com/u/yahoo-finance/watchlists/bank-and-financial-services-stocks/\n",
    "    # also consider https://www.ffiec.gov/npw/Institution/TopHoldings\n",
    "    # len(symbols) #29 + BAC -> 30\n",
    "\n",
    "    \n",
    "    df = bs('JPM', financials)\n",
    "    for symbol in symbols:\n",
    "        n_df = scrape(symbol, financials)\n",
    "        df = pd.concat([df, n_df], ignore_index=True)\n",
    "\n",
    "    return df\n",
    "\n",
    "financials = 'balance-sheet' # financials, cash-flow, balance-sheet\n",
    "df = scrape_1_stmt(financials)\n",
    "# over 1 min for 1 bank. can you use multiple threads in sel?:')"
   ]
  },
  {
   "cell_type": "code",
   "execution_count": 49,
   "metadata": {},
   "outputs": [
    {
     "data": {
      "text/plain": [
       "(74, 6)"
      ]
     },
     "execution_count": 49,
     "metadata": {},
     "output_type": "execute_result"
    }
   ],
   "source": [
    "df.shape"
   ]
  },
  {
   "cell_type": "code",
   "execution_count": 50,
   "metadata": {},
   "outputs": [],
   "source": [
    "df.to_csv(\"../../data/raw/fin_statements/b_s.csv\", index=False)"
   ]
  },
  {
   "cell_type": "markdown",
   "metadata": {},
   "source": [
    "## The yFinance library"
   ]
  },
  {
   "cell_type": "code",
   "execution_count": 1,
   "metadata": {},
   "outputs": [],
   "source": [
    "# !pip install yfinance\n"
   ]
  },
  {
   "cell_type": "code",
   "execution_count": 2,
   "metadata": {},
   "outputs": [],
   "source": [
    "import yfinance as yf\n",
    "\n",
    "# Specify the stock you want to analyze (e.g., Medco)\n",
    "BAC = yf.Ticker('BAC')\n"
   ]
  },
  {
   "cell_type": "code",
   "execution_count": 3,
   "metadata": {},
   "outputs": [],
   "source": [
    "bs = BAC.balance_sheet"
   ]
  },
  {
   "cell_type": "code",
   "execution_count": 4,
   "metadata": {},
   "outputs": [
    {
     "data": {
      "text/html": [
       "<div>\n",
       "<style scoped>\n",
       "    .dataframe tbody tr th:only-of-type {\n",
       "        vertical-align: middle;\n",
       "    }\n",
       "\n",
       "    .dataframe tbody tr th {\n",
       "        vertical-align: top;\n",
       "    }\n",
       "\n",
       "    .dataframe thead th {\n",
       "        text-align: right;\n",
       "    }\n",
       "</style>\n",
       "<table border=\"1\" class=\"dataframe\">\n",
       "  <thead>\n",
       "    <tr style=\"text-align: right;\">\n",
       "      <th></th>\n",
       "      <th>2023-12-31</th>\n",
       "      <th>2022-12-31</th>\n",
       "      <th>2021-12-31</th>\n",
       "      <th>2020-12-31</th>\n",
       "    </tr>\n",
       "  </thead>\n",
       "  <tbody>\n",
       "    <tr>\n",
       "      <th>Preferred Shares Number</th>\n",
       "      <td>409797858.0</td>\n",
       "      <td>406711800.0</td>\n",
       "      <td>NaN</td>\n",
       "      <td>250320600.0</td>\n",
       "    </tr>\n",
       "    <tr>\n",
       "      <th>Ordinary Shares Number</th>\n",
       "      <td>7895457665.0</td>\n",
       "      <td>7996777943.0</td>\n",
       "      <td>8077831463.0</td>\n",
       "      <td>8650814105.0</td>\n",
       "    </tr>\n",
       "    <tr>\n",
       "      <th>Share Issued</th>\n",
       "      <td>7895457665.0</td>\n",
       "      <td>7996777943.0</td>\n",
       "      <td>8077831463.0</td>\n",
       "      <td>8650814105.0</td>\n",
       "    </tr>\n",
       "    <tr>\n",
       "      <th>Net Debt</th>\n",
       "      <td>NaN</td>\n",
       "      <td>65452000000.0</td>\n",
       "      <td>NaN</td>\n",
       "      <td>NaN</td>\n",
       "    </tr>\n",
       "    <tr>\n",
       "      <th>Total Debt</th>\n",
       "      <td>334302000000.0</td>\n",
       "      <td>302914000000.0</td>\n",
       "      <td>303870000000.0</td>\n",
       "      <td>282255000000.0</td>\n",
       "    </tr>\n",
       "  </tbody>\n",
       "</table>\n",
       "</div>"
      ],
      "text/plain": [
       "                             2023-12-31      2022-12-31      2021-12-31  \\\n",
       "Preferred Shares Number     409797858.0     406711800.0             NaN   \n",
       "Ordinary Shares Number     7895457665.0    7996777943.0    8077831463.0   \n",
       "Share Issued               7895457665.0    7996777943.0    8077831463.0   \n",
       "Net Debt                            NaN   65452000000.0             NaN   \n",
       "Total Debt               334302000000.0  302914000000.0  303870000000.0   \n",
       "\n",
       "                             2020-12-31  \n",
       "Preferred Shares Number     250320600.0  \n",
       "Ordinary Shares Number     8650814105.0  \n",
       "Share Issued               8650814105.0  \n",
       "Net Debt                            NaN  \n",
       "Total Debt               282255000000.0  "
      ]
     },
     "execution_count": 4,
     "metadata": {},
     "output_type": "execute_result"
    }
   ],
   "source": [
    "bs.head()"
   ]
  }
 ],
 "metadata": {
  "kernelspec": {
   "display_name": "Python 3",
   "language": "python",
   "name": "python3"
  },
  "language_info": {
   "codemirror_mode": {
    "name": "ipython",
    "version": 3
   },
   "file_extension": ".py",
   "mimetype": "text/x-python",
   "name": "python",
   "nbconvert_exporter": "python",
   "pygments_lexer": "ipython3",
   "version": "3.9.12"
  }
 },
 "nbformat": 4,
 "nbformat_minor": 4
}
