{
 "cells": [
  {
   "cell_type": "code",
   "execution_count": 2,
   "metadata": {},
   "outputs": [],
   "source": [
    "import requests\n",
    "from bs4 import BeautifulSoup\n",
    "import pandas as pd\n",
    "import re\n",
    "from selenium import webdriver\n",
    "from selenium.webdriver.chrome.service import Service\n",
    "from webdriver_manager.chrome import ChromeDriverManager\n",
    "from selenium.webdriver.common.by import By\n",
    "from selenium.webdriver.support.ui import WebDriverWait\n",
    "from selenium.webdriver.support import expected_conditions as EC\n",
    "from selenium.webdriver.common import action_chains\n"
   ]
  },
  {
   "cell_type": "code",
   "execution_count": 3,
   "metadata": {},
   "outputs": [
    {
     "data": {
      "text/plain": [
       "'c:\\\\Users\\\\18055\\\\AppData\\\\Local\\\\Programs\\\\Python\\\\Python39\\\\lib\\\\site-packages\\\\chromedriver_autoinstaller\\\\123\\\\chromedriver.exe'"
      ]
     },
     "execution_count": 3,
     "metadata": {},
     "output_type": "execute_result"
    }
   ],
   "source": [
    "from selenium import webdriver\n",
    "import chromedriver_autoinstaller\n",
    "\n",
    "\n",
    "chromedriver_autoinstaller.install()  # Check if the current version of chromedriver exists\n",
    "                                      # and if it doesn't exist, download it automatically,\n",
    "                                      # then add chromedriver to path\n"
   ]
  },
  {
   "cell_type": "code",
   "execution_count": 4,
   "metadata": {},
   "outputs": [],
   "source": [
    "headers={\"user-agent\": \"Mozilla/5.0 (Windows NT 10.0; Win64; x64) AppleWebKit/537.36 (KHTML, like Gecko) Chrome/95.0.4638.54 Safari/537.36\"}\n",
    "url ='https://finance.yahoo.com/quote/BAC/financials'\n",
    "page = requests.get(url, headers=headers)\n",
    "soup = BeautifulSoup(page.content, 'html.parser')\n",
    "\n",
    "# print(soup.prettify())"
   ]
  },
  {
   "cell_type": "code",
   "execution_count": 4,
   "metadata": {},
   "outputs": [
    {
     "data": {
      "text/plain": [
       "['Breakdown', '12/31/2023', '12/31/2022', '12/31/2021', '12/31/2020']"
      ]
     },
     "execution_count": 4,
     "metadata": {},
     "output_type": "execute_result"
    }
   ],
   "source": [
    "header = [hd.get_text() for hd in soup.find('div', class_ = \"D(tbr) C($primaryColor)\").find_all('span')]\n",
    "header.remove('ttm')\n",
    "header\n",
    "#columns"
   ]
  },
  {
   "cell_type": "code",
   "execution_count": 5,
   "metadata": {},
   "outputs": [],
   "source": [
    "\n",
    "# df = pd.DataFrame(columns = header)\n",
    "# df"
   ]
  },
  {
   "cell_type": "code",
   "execution_count": 6,
   "metadata": {},
   "outputs": [
    {
     "name": "stdout",
     "output_type": "stream",
     "text": [
      "['Total Revenue', 'Credit Losses Provision', 'Non Interest Expense', 'Pretax Income', 'Tax Provision', 'Net Income Common Stockholders', 'Diluted NI Available to Com Stockholders', 'Basic EPS', 'Diluted EPS', 'Basic Average Shares', 'Diluted Average Shares', 'Interest Income after Provision for Loan Loss', 'Net Income from Continuing & Discontinued Operation', 'Normalized Income', 'Total Money Market Investments', 'Reconciled Depreciation', 'Net Income from Continuing Operation Net Minority Interest', 'Tax Rate for Calcs', 'Tax Effect of Unusual Items']\n"
     ]
    }
   ],
   "source": [
    "div2 = soup.find('div', class_ = \"D(tbrg)\")\n",
    "# print(div2)\n",
    "\n",
    "breakdown = [bd.get_text() for bd in div2.find_all('span', class_ = \"Va(m)\")]\n",
    "print(breakdown)\n"
   ]
  },
  {
   "cell_type": "code",
   "execution_count": 6,
   "metadata": {},
   "outputs": [
    {
     "data": {
      "text/plain": [
       "(19, 6)"
      ]
     },
     "execution_count": 6,
     "metadata": {},
     "output_type": "execute_result"
    }
   ],
   "source": [
    "# three_cols = [bd.get_text() for bd in div2.find_all('div', class_ = \"Ta(c) Py(6px) Bxz(bb) BdB Bdc($seperatorColor) Miw(120px) Miw(100px)--pnclg Bgc($lv1BgColor) fi-row:h_Bgc($hoverBgColor) D(tbc)\")]\n",
    "# ttm = three_cols[::3]\n",
    "# # print(ttm)\n",
    " \n",
    "# col22 = three_cols[1::3]\n",
    "# # print(col22[:3])\n",
    "\n",
    "# col20 = three_cols[2::3]\n",
    "# #print(col17[:3])\n",
    "\n",
    "# two_cols = [bd.get_text() for bd in div2.find_all('div', class_=\"Ta(c) Py(6px) Bxz(bb) BdB Bdc($seperatorColor) Miw(120px) Miw(100px)--pnclg D(tbc)\")]\n",
    "# # print(two_cols)\n",
    "\n",
    "# col23 = two_cols[::2]\n",
    "# # print(col23)\n",
    "\n",
    "# col21 = two_cols[1::2]\n",
    "# # print(col21)\n",
    "\n",
    "# # data = {\n",
    "# #     'Breakdown': breakdown,\n",
    "# #     'TTM': ttm,\n",
    "# #     '12/31/2020': col20,\n",
    "# #     '12/31/2019': col19,\n",
    "# #     '12/31/2018': col18,\n",
    "# #     '12/31/2017': col17\n",
    "# # }\n",
    "\n",
    "# temp_df = pd.DataFrame(list(zip(breakdown, ttm, col23, col22, col21, col20)), columns=header)\n",
    "# # df = pd.concat([df, temp_df], ignore_index = True)\n",
    "# # df\n",
    "# temp_df.shape"
   ]
  },
  {
   "cell_type": "markdown",
   "metadata": {},
   "source": [
    "The Buttons! We missed the Buttons!!!"
   ]
  },
  {
   "cell_type": "code",
   "execution_count": 30,
   "metadata": {},
   "outputs": [
    {
     "name": "stdout",
     "output_type": "stream",
     "text": [
      "[<button aria-label=\"Total Revenue\" class=\"P(0) M(0) Va(m) Bd(0) Fz(s) Mend(2px) tgglBtn\"><svg class=\"H(16px) Fill($primaryColor) Stk($primaryColor) tgglBtn:h_Fill($linkColor) tgglBtn:h_Stk($linkColor) Cur(p)\" data-icon=\"caret-right\" height=\"16\" style=\"stroke-width:0;vertical-align:bottom\" viewbox=\"0 0 48 48\" width=\"16\"><path d=\"M33.447 24.102L20.72 11.375c-.78-.78-2.048-.78-2.828 0-.78.78-.78 2.047 0 2.828l9.9 9.9-9.9 9.9c-.78.78-.78 2.047 0 2.827.78.78 2.047.78 2.828 0l12.727-12.728z\"></path></svg></button>, <button aria-label=\"Non Interest Expense\" class=\"P(0) M(0) Va(m) Bd(0) Fz(s) Mend(2px) tgglBtn\"><svg class=\"H(16px) Fill($primaryColor) Stk($primaryColor) tgglBtn:h_Fill($linkColor) tgglBtn:h_Stk($linkColor) Cur(p)\" data-icon=\"caret-right\" height=\"16\" style=\"stroke-width:0;vertical-align:bottom\" viewbox=\"0 0 48 48\" width=\"16\"><path d=\"M33.447 24.102L20.72 11.375c-.78-.78-2.048-.78-2.828 0-.78.78-.78 2.047 0 2.828l9.9 9.9-9.9 9.9c-.78.78-.78 2.047 0 2.827.78.78 2.047.78 2.828 0l12.727-12.728z\"></path></svg></button>, <button aria-label=\"Net Income Common Stockholders\" class=\"P(0) M(0) Va(m) Bd(0) Fz(s) Mend(2px) tgglBtn\"><svg class=\"H(16px) Fill($primaryColor) Stk($primaryColor) tgglBtn:h_Fill($linkColor) tgglBtn:h_Stk($linkColor) Cur(p)\" data-icon=\"caret-right\" height=\"16\" style=\"stroke-width:0;vertical-align:bottom\" viewbox=\"0 0 48 48\" width=\"16\"><path d=\"M33.447 24.102L20.72 11.375c-.78-.78-2.048-.78-2.828 0-.78.78-.78 2.047 0 2.828l9.9 9.9-9.9 9.9c-.78.78-.78 2.047 0 2.827.78.78 2.047.78 2.828 0l12.727-12.728z\"></path></svg></button>]\n"
     ]
    },
    {
     "data": {
      "text/plain": [
       "['Total Revenue', 'Non Interest Expense', 'Net Income Common Stockholders']"
      ]
     },
     "execution_count": 30,
     "metadata": {},
     "output_type": "execute_result"
    }
   ],
   "source": [
    "# but = [bd for bd in div2.find_all('button')]\n",
    "# labels = [ele['aria-label'] for ele in but]\n",
    "# labels"
   ]
  },
  {
   "cell_type": "code",
   "execution_count": 8,
   "metadata": {},
   "outputs": [],
   "source": [
    "# !pip install chromedriver_autoinstall"
   ]
  },
  {
   "cell_type": "code",
   "execution_count": 8,
   "metadata": {},
   "outputs": [],
   "source": [
    "def scrape(symbol, financials):\n",
    "    # create a new  session\n",
    "    # driver = webdriver.Chrome(ChromeDriverManager().install())\n",
    "    # driver = webdriver.Chrome(r\"c:/18055/Downloads/chromedriver_win32/chromedriver.exe\")\n",
    "    # driver = webdriver.Chrome(ChromeDriverManager(driver_version='114.0.5735.90').install(), options=option)\n",
    "    url =f'https://finance.yahoo.com/quote/{symbol}/{financials}'\n",
    "    # driver = webdriver.Chrome()\n",
    "    # driver.implicitly_wait(30)\n",
    "    driver = webdriver.Chrome()\n",
    "    driver.get(url)\n",
    "    # driver.implicitly_wait(30)\n",
    "\n",
    "    # browser.get(url)\n",
    "\n",
    "    # Get button and click it\n",
    "    # python_button = driver.find_element_by_id(\"button\")\n",
    "    # python_button\n",
    "    # python_button.click() #click load more button\n",
    "\n",
    "    #click all drop buttons\n",
    "    def get_labels():\n",
    "        div2 = driver.find_element(By.CSS_SELECTOR, 'div[class=\"D(tbrg)\"]')\n",
    "        but = [bd for bd in div2.find_elements(By.CSS_SELECTOR, 'button')]\n",
    "        labels = [ele.get_attribute('aria-label') for ele in but]\n",
    "        # labels = [ele['aria-label'] for ele in but]\n",
    "        return labels\n",
    "\n",
    "    def click_buttons(labels):\n",
    "        for label in labels:\n",
    "            css = f'button[aria-label=\"{label}\"]'\n",
    "            b = driver.find_element(By.CSS_SELECTOR, css)\n",
    "\n",
    "            driver.maximize_window()\n",
    "\n",
    "\n",
    "            # actions = action_chains.ActionChains(driver)\n",
    "            # actions.move_to_element(b)\n",
    "            # actions.perform()\n",
    "            # p = b.location\n",
    "            # print(p)\n",
    "            # actions.move_to_element(b).move_by_offset(p['x'],p['y']).click().perform()\n",
    "            \n",
    "            #scrolling\n",
    "            driver.execute_script(\"arguments[0].click();\", b)\n",
    "            #apparently using js removes the need of scrolling - prolly has better brains\n",
    "            # b.location_once_scrolled_into_view\n",
    "\n",
    "\n",
    "            # driverWait = WebDriverWait(driver, 10)\n",
    "            # driverWait.until(EC.invisibility_of_element_located(b))\n",
    "            # driverWait.until(EC.element_to_be_clickable(b)).click()\n",
    "            \"\"\"i think the prob lies with the viewport. Stupid thing is not scrolling to given element.\n",
    "             So, I m thinking that even if you get the location and ask it to go there, it wont cos it cant see.\n",
    "             Maximising window wont always work, besides its a very inelegant solution\n",
    "               Stupid blind thing\n",
    "                \"\"\"\n",
    "\n",
    "            # b.click()\n",
    "\n",
    "    labels = get_labels()\n",
    "    l_count_1 = 1\n",
    "    l_count_0 = 0\n",
    "    click_buttons(labels)\n",
    "    labels_0 = labels\n",
    "    while l_count_1 != l_count_0:\n",
    "        labels_1 = get_labels()\n",
    "        labels = [x for x in labels_1 if x not in labels_0]\n",
    "        click_buttons(labels)\n",
    "        l_count_0 = len(labels_0)\n",
    "        l_count_1 = len(labels_1)\n",
    "        labels_0 = labels_1\n",
    "\n",
    "    div_exp = driver.find_elements(By.CSS_SELECTOR, \"span[class='Va(m)'\")\n",
    "    texts = [span_obj.text for span_obj in div_exp]\n",
    "    \n",
    "    div2 = driver.find_element(By.CSS_SELECTOR, 'div[class=\"D(tbrg)\"]')\n",
    "\n",
    "    three_cols = [bd.text for bd in div2.find_elements(By.CSS_SELECTOR, 'div[class=\"Ta(c) Py(6px) Bxz(bb) BdB Bdc($seperatorColor) Miw(120px) Miw(100px)--pnclg Bgc($lv1BgColor) fi-row:h_Bgc($hoverBgColor) D(tbc)\"]')]\n",
    "    # ttm = three_cols[::3]\n",
    "    col22 = three_cols[1::3]\n",
    "    sym = [symbol for i in range(len(col22))]\n",
    "    col20 = three_cols[2::3]\n",
    "    two_cols = [bd.text for bd in div2.find_elements(By.CSS_SELECTOR, 'div[class=\"Ta(c) Py(6px) Bxz(bb) BdB Bdc($seperatorColor) Miw(120px) Miw(100px)--pnclg D(tbc)\"]')]\n",
    "    col23 = two_cols[::2]\n",
    "    col21 = two_cols[1::2]\n",
    "    temp_df = pd.DataFrame(list(zip(texts, col23, col22, col21, col20)), columns=header)\n",
    "    temp_df.insert(1, 'Bank', sym, allow_duplicates=True)\n",
    "    return temp_df"
   ]
  },
  {
   "cell_type": "code",
   "execution_count": 9,
   "metadata": {},
   "outputs": [],
   "source": [
    "# df = scrape('WFC', 'balance-sheet')"
   ]
  },
  {
   "cell_type": "code",
   "execution_count": 161,
   "metadata": {},
   "outputs": [
    {
     "data": {
      "text/plain": [
       "'have removed TTM col(i dont really know what that is)\\nWill need to pass all 3 diff financials to get separate dfs and write to csvs\\nSome companies dont have updated info- they seem to have submitted annual reports in march cycles\\nAnd they have only 3 years- would have to remove those banks on the  fly'"
      ]
     },
     "execution_count": 161,
     "metadata": {},
     "output_type": "execute_result"
    }
   ],
   "source": [
    "\"\"\"have removed TTM col(i dont really know what that is)\n",
    "Will need to pass all 3 diff financials to get separate dfs and write to csvs\n",
    "Some companies dont have updated info- they seem to have submitted annual reports in march cycles\n",
    "And they have only 3 years- would have to remove those banks on the  fly\"\"\""
   ]
  },
  {
   "cell_type": "code",
   "execution_count": 10,
   "metadata": {},
   "outputs": [
    {
     "data": {
      "text/plain": [
       "(1709, 6)"
      ]
     },
     "execution_count": 10,
     "metadata": {},
     "output_type": "execute_result"
    }
   ],
   "source": [
    "def scrape_1_stmt(financials): #scrapes 1 stmt for all banks and returns df\n",
    "    symbols = ['WFC', 'JPM', 'HSBC', 'MS', 'RY', 'GS', 'SCHW', 'MUFG', 'C', 'TD', 'UBS', 'IBN', 'BNPQY', 'SMFG', 'BMO', 'BBVA', 'USB', 'UNCRY','ITUB', 'PNC', 'BNS', 'NU', 'ING', 'TFC', 'IBKR', 'BSBR', 'BCS', 'DB']\n",
    "    # SYMBOLS FROM https://finance.yahoo.com/u/yahoo-finance/watchlists/bank-and-financial-services-stocks/\n",
    "    # also consider https://www.ffiec.gov/npw/Institution/TopHoldings\n",
    "    # len(symbols) #29 + BAC -> 30\n",
    "\n",
    "    \n",
    "    df = scrape('BAC', financials)\n",
    "    for symbol in symbols:\n",
    "        n_df = scrape(symbol, financials)\n",
    "        df = pd.concat([df, n_df], ignore_index=True)\n",
    "\n",
    "    return df\n",
    "\n",
    "financials = 'financials' # financials, cash-flow, balance-sheet\n",
    "df = scrape_1_stmt(financials)\n",
    "# over 1 min for 1 bank. can you use multiple threads in sel?:')"
   ]
  },
  {
   "cell_type": "code",
   "execution_count": 12,
   "metadata": {},
   "outputs": [
    {
     "data": {
      "text/html": [
       "<div>\n",
       "<style scoped>\n",
       "    .dataframe tbody tr th:only-of-type {\n",
       "        vertical-align: middle;\n",
       "    }\n",
       "\n",
       "    .dataframe tbody tr th {\n",
       "        vertical-align: top;\n",
       "    }\n",
       "\n",
       "    .dataframe thead th {\n",
       "        text-align: right;\n",
       "    }\n",
       "</style>\n",
       "<table border=\"1\" class=\"dataframe\">\n",
       "  <thead>\n",
       "    <tr style=\"text-align: right;\">\n",
       "      <th></th>\n",
       "      <th>Breakdown</th>\n",
       "      <th>Bank</th>\n",
       "      <th>12/31/2023</th>\n",
       "      <th>12/31/2022</th>\n",
       "      <th>12/31/2021</th>\n",
       "      <th>12/31/2020</th>\n",
       "    </tr>\n",
       "  </thead>\n",
       "  <tbody>\n",
       "    <tr>\n",
       "      <th>1704</th>\n",
       "      <td>Net Income from Continuing Operation Net Minor...</td>\n",
       "      <td>DB</td>\n",
       "      <td>6,332,000</td>\n",
       "      <td>5,420,000</td>\n",
       "      <td>2,451,000</td>\n",
       "      <td>495,000</td>\n",
       "    </tr>\n",
       "    <tr>\n",
       "      <th>1705</th>\n",
       "      <td>Total Unusual Items Excluding Goodwill</td>\n",
       "      <td>DB</td>\n",
       "      <td>-788,000</td>\n",
       "      <td>441,000</td>\n",
       "      <td>-377,000</td>\n",
       "      <td>-1,395,000</td>\n",
       "    </tr>\n",
       "    <tr>\n",
       "      <th>1706</th>\n",
       "      <td>Total Unusual Items</td>\n",
       "      <td>DB</td>\n",
       "      <td>-788,000</td>\n",
       "      <td>441,000</td>\n",
       "      <td>-377,000</td>\n",
       "      <td>-1,395,000</td>\n",
       "    </tr>\n",
       "    <tr>\n",
       "      <th>1707</th>\n",
       "      <td>Tax Rate for Calcs</td>\n",
       "      <td>DB</td>\n",
       "      <td>0</td>\n",
       "      <td>0</td>\n",
       "      <td>0</td>\n",
       "      <td>0</td>\n",
       "    </tr>\n",
       "    <tr>\n",
       "      <th>1708</th>\n",
       "      <td>Tax Effect of Unusual Items</td>\n",
       "      <td>DB</td>\n",
       "      <td>-149,720</td>\n",
       "      <td>66,150</td>\n",
       "      <td>-98,020</td>\n",
       "      <td>-544,050</td>\n",
       "    </tr>\n",
       "  </tbody>\n",
       "</table>\n",
       "</div>"
      ],
      "text/plain": [
       "                                              Breakdown Bank 12/31/2023  \\\n",
       "1704  Net Income from Continuing Operation Net Minor...   DB  6,332,000   \n",
       "1705             Total Unusual Items Excluding Goodwill   DB   -788,000   \n",
       "1706                                Total Unusual Items   DB   -788,000   \n",
       "1707                                 Tax Rate for Calcs   DB          0   \n",
       "1708                        Tax Effect of Unusual Items   DB   -149,720   \n",
       "\n",
       "     12/31/2022 12/31/2021  12/31/2020  \n",
       "1704  5,420,000  2,451,000     495,000  \n",
       "1705    441,000   -377,000  -1,395,000  \n",
       "1706    441,000   -377,000  -1,395,000  \n",
       "1707          0          0           0  \n",
       "1708     66,150    -98,020    -544,050  "
      ]
     },
     "execution_count": 12,
     "metadata": {},
     "output_type": "execute_result"
    }
   ],
   "source": [
    "df.tail()   "
   ]
  },
  {
   "cell_type": "code",
   "execution_count": 18,
   "metadata": {},
   "outputs": [],
   "source": [
    "df.to_csv(\"../../data/raw/income_stmts.csv\", index=False)"
   ]
  },
  {
   "cell_type": "markdown",
   "metadata": {},
   "source": [
    "Gotta do balance sheets n cash flow"
   ]
  },
  {
   "cell_type": "code",
   "execution_count": null,
   "metadata": {},
   "outputs": [],
   "source": []
  }
 ],
 "metadata": {
  "kernelspec": {
   "display_name": "Python 3",
   "language": "python",
   "name": "python3"
  },
  "language_info": {
   "codemirror_mode": {
    "name": "ipython",
    "version": 3
   },
   "file_extension": ".py",
   "mimetype": "text/x-python",
   "name": "python",
   "nbconvert_exporter": "python",
   "pygments_lexer": "ipython3",
   "version": "3.9.12"
  }
 },
 "nbformat": 4,
 "nbformat_minor": 4
}
