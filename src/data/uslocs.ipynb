{
 "cells": [
  {
   "cell_type": "code",
   "execution_count": null,
   "metadata": {},
   "outputs": [],
   "source": [
    "#scrape usbanklocs for, well.. everything :===="
   ]
  },
  {
   "cell_type": "code",
   "execution_count": 2,
   "metadata": {},
   "outputs": [],
   "source": [
    "import requests\n",
    "from bs4 import BeautifulSoup\n",
    "import pandas as pd\n",
    "import re\n",
    "# from selenium import webdriver\n",
    "# from selenium.webdriver.chrome.service import Service\n",
    "# from webdriver_manager.chrome import ChromeDriverManager\n",
    "# from selenium.webdriver.common.by import By\n",
    "# from selenium.webdriver.support.ui import WebDriverWait\n",
    "# from selenium.webdriver.support import expected_conditions as EC\n",
    "# from selenium.webdriver.common import action_chains\n"
   ]
  },
  {
   "cell_type": "code",
   "execution_count": 67,
   "metadata": {},
   "outputs": [],
   "source": [
    "# headers={\"user-agent\": \"Mozilla/5.0 (Windows NT 10.0; Win64; x64) AppleWebKit/537.36 (KHTML, like Gecko) Chrome/95.0.4638.54 Safari/537.36\"}\n",
    "# bank = 'u-s-bank'\n",
    "# url =f'https://www.usbanklocations.com/{bank}.shtml'\n",
    "# page = requests.get(url, headers=headers)\n",
    "# soup = BeautifulSoup(page.content, 'html.parser')\n",
    "\n",
    "# # print(soup.prettify())"
   ]
  },
  {
   "cell_type": "code",
   "execution_count": 48,
   "metadata": {},
   "outputs": [
    {
     "name": "stdout",
     "output_type": "stream",
     "text": [
      "61\n"
     ]
    }
   ],
   "source": [
    "# base = \"https://www.usbanklocations.com/\"\n",
    "# id1 = soup.find_all('div', class_ = 'id1')\n",
    "# id2 = soup.find_all('div', class_ = 'id2')\n",
    "# idt = soup.find_all('div', class_ = 'idtitle')\n",
    "# ids = idt + id1 + id2\n",
    "# lks = [base + id.find('a', href=True)['href'] for id in ids]\n",
    "# #to get a sep link set for income and exp section:\n",
    "# lks_indices = []# indices in lks for all incnexp links\n",
    "# # chargeoffs+2\n",
    "# chargeoffs = lks.index('https://www.usbanklocations.com//u-s-bank-financial-info.shtml?t=chargeoffs')\n",
    "# for i in range(chargeoffs, chargeoffs + 3):\n",
    "#     lks_indices.append(i)\n",
    "# #ine\n",
    "# ine = lks.index('https://www.usbanklocations.com//u-s-bank-financial-info.shtml?t=incomeexpense')\n",
    "# lks_indices.append(ine)\n",
    "# #interest income + 7\n",
    "# ini = lks.index('https://www.usbanklocations.com//u-s-bank-financial-info.shtml?t=interestincome')\n",
    "# for i in range(ini, ini + 8):\n",
    "#     lks_indices.append(i)\n",
    "\n",
    "# links2 = [lks[i] for i in lks_indices]\n",
    "# links1 = [lk for lk in lks if lk not in links2]\n",
    "# # print(len(links2)+len(links1))"
   ]
  },
  {
   "cell_type": "code",
   "execution_count": 68,
   "metadata": {},
   "outputs": [
    {
     "data": {
      "text/plain": [
       "95"
      ]
     },
     "execution_count": 68,
     "metadata": {},
     "output_type": "execute_result"
    }
   ],
   "source": [
    "\n",
    "# sub_url = 'https://www.usbanklocations.com//jpmorgan-chase-bank-financial-info.shtml?t=assetsliabilities'\n",
    "\n",
    "# page = requests.get(sub_url, headers=headers)\n",
    "# soup = BeautifulSoup(page.content, 'html.parser')\n",
    "# dates = soup.find_all(lambda x : x.name=='td' and x.has_attr('colspan') and x['class']==['iddate'])\n",
    "# len(dates) # all quarters present\n",
    "# quarters = [var.text for var in dates]\n",
    "# # quarters\n",
    "# len(quarters)"
   ]
  },
  {
   "cell_type": "code",
   "execution_count": 18,
   "metadata": {},
   "outputs": [
    {
     "name": "stdout",
     "output_type": "stream",
     "text": [
      "2\n"
     ]
    }
   ],
   "source": [
    "# s = 'id2'\n",
    "# if (re.search(\"id[0-9]\", s)):\n",
    "#     print(2)"
   ]
  },
  {
   "cell_type": "code",
   "execution_count": null,
   "metadata": {},
   "outputs": [
    {
     "data": {
      "text/plain": [
       "4655"
      ]
     },
     "metadata": {},
     "output_type": "display_data"
    }
   ],
   "source": [
    "# vals = soup.find_all(lambda x : x.has_attr('align') and x['align'] == 'right')\n",
    "# vals = [val.text for val in vals]\n",
    "# values = [vals[i] for i in range(len(vals)) if i%2 == 0] #get only values and not ranks\n",
    "# values[:32]\n",
    "# len(values)\n"
   ]
  },
  {
   "cell_type": "code",
   "execution_count": 114,
   "metadata": {},
   "outputs": [
    {
     "data": {
      "text/plain": [
       "4655"
      ]
     },
     "execution_count": 114,
     "metadata": {},
     "output_type": "execute_result"
    }
   ],
   "source": [
    "\"\"\"version 2\"\"\"\n",
    "# at = []\n",
    "# vars = soup.find_all(lambda x : x.name=='td' and x.has_attr('colspan')==False )\n",
    "# for var in vars:\n",
    "#     if var.has_attr('class'):\n",
    "#         if var['class'][0] != 'iddate':\n",
    "#             if var.text not in vals:\n",
    "#                 at.append(var.text)\n",
    "#     else:\n",
    "#         if var.text not in vals:\n",
    "#                 at.append(var.text)\n",
    "# attributes = at[2:]\n",
    "\n"
   ]
  },
  {
   "cell_type": "code",
   "execution_count": null,
   "metadata": {},
   "outputs": [],
   "source": [
    "\"\"\"version 1\"\"\"\n",
    "# vars = soup.find_all(lambda x : x.name=='td' and x.has_attr('colspan')==False )\n",
    "# attributes= []\n",
    "# for var in vars:\n",
    "#     if var.has_attr('class'):\n",
    "#         # print(var['class'])\n",
    "#         if (re.search(\"id[0-9]\", var['class'][0])):\n",
    "#             attributes.append(var.text)\n",
    "#     if (var.find('b') and var.has_attr('class') == False):\n",
    "#         b_text = var.find('b').text\n",
    "#         if b_text not in vals:\n",
    "#             attributes.append(b_text)\n",
    "#     # if (var.find('td').text):\n",
    "#     #     attributes.append(var.find('td').text)\n",
    "# # attributes = [var for var in vars]\n",
    "# len(attributes)\n",
    "# # attributes[0]\n",
    "# # list(zip(attributes, values))[:60]"
   ]
  },
  {
   "cell_type": "code",
   "execution_count": 70,
   "metadata": {},
   "outputs": [
    {
     "data": {
      "text/plain": [
       "2565"
      ]
     },
     "execution_count": 70,
     "metadata": {},
     "output_type": "execute_result"
    }
   ],
   "source": [
    "\"\"\"version 0\"\"\"\n",
    "# vars = soup.find_all(lambda x : x.name=='td' and x.has_attr('class') and (x['class']==['id0'] or x['class']==['id1'] or x['class']==['id2'] or x['class']==['id3'])and x.has_attr('colspan')==False)\n",
    "# attributes = [var.text for var in vars]\n",
    "# len(attributes)\n",
    "# attributes[0:35]\n",
    "# len(vars) #10 each for 95 quarters :')"
   ]
  },
  {
   "cell_type": "code",
   "execution_count": 141,
   "metadata": {},
   "outputs": [
    {
     "data": {
      "text/plain": [
       "12"
      ]
     },
     "execution_count": 141,
     "metadata": {},
     "output_type": "execute_result"
    }
   ],
   "source": [
    "# # list(zip(attributes, values))[:10]\n",
    "# unique_attrs = int(len(attributes)/len(dates))\n",
    "# # do above rows of unique attributes and then concat each url's \n",
    "# unique_attrs"
   ]
  },
  {
   "cell_type": "code",
   "execution_count": 130,
   "metadata": {},
   "outputs": [
    {
     "data": {
      "text/plain": [
       "'Not best Practice!!:===='"
      ]
     },
     "execution_count": 130,
     "metadata": {},
     "output_type": "execute_result"
    }
   ],
   "source": [
    "# bank = 'u-s-bank'\n",
    "# bank_col = [bank for i in range(unique_attrs)]\n",
    "# attr = attributes[:unique_attrs]\n",
    "# temp_df = pd.DataFrame(list(zip(attr, bank_col)), columns=['Tag', 'Bank'])\n",
    "# temp_df.head()\n",
    "# for i in range(unique_attrs, len(values) + unique_attrs, unique_attrs):\n",
    "#     li = values[i-unique_attrs : i]\n",
    "#     l = pd.Series(li)\n",
    "#     # print(i-unique_attrs, i, int((i-unique_attrs)/unique_attrs))\n",
    "#     temp_df.insert(temp_df.shape[1], quarters[int((i-unique_attrs)/unique_attrs)], li)\n",
    "#     # temp_df = pd.concat([temp_df, l], axis=1)\n",
    "# \"\"\"Not best Practice!!:====\"\"\""
   ]
  },
  {
   "cell_type": "code",
   "execution_count": 131,
   "metadata": {},
   "outputs": [
    {
     "data": {
      "text/plain": [
       "(34, 97)"
      ]
     },
     "execution_count": 131,
     "metadata": {},
     "output_type": "execute_result"
    }
   ],
   "source": [
    "# temp_df.shape"
   ]
  },
  {
   "cell_type": "code",
   "execution_count": 124,
   "metadata": {},
   "outputs": [],
   "source": [
    "def scrape_link(link):#for 1 bank, 1 link\n",
    "    sub_url = link\n",
    "    print(link)\n",
    "    page = requests.get(sub_url, headers=headers)\n",
    "    soup = BeautifulSoup(page.content, 'html.parser')\n",
    "    dates = soup.find_all(lambda x : x.name=='td' and x.has_attr('colspan') and x['class']==['iddate'])\n",
    "    \n",
    "    quarters = [var.text for var in dates]\n",
    "    # print(len(quarters)) # all quarters present\n",
    "\n",
    "    vals = soup.find_all(lambda x : x.has_attr('align') and x['align'] == 'right')\n",
    "    vals = [val.text for val in vals]\n",
    "    values = [vals[i] for i in range(len(vals)) if i%2 == 0] #get only values and not ranks\n",
    "    # print(\"vals\", len(values))\n",
    "\n",
    "\n",
    "    at = []\n",
    "    vars = soup.find_all(lambda x : x.name=='td' and x.has_attr('colspan')==False )\n",
    "    for var in vars:\n",
    "        if var.has_attr('class'):\n",
    "            if var['class'][0] != 'iddate':\n",
    "                if var.text not in vals:\n",
    "                    at.append(var.text)\n",
    "        else:\n",
    "            if var.text not in vals:\n",
    "                    at.append(var.text)\n",
    "    attributes = at[2:]\n",
    "\n",
    "    unique_attrs = int(len(attributes)/len(dates))\n",
    "    # print(unique_attrs)\n",
    "    # print(\"attr\", len(attributes))\n",
    "\n",
    "\n",
    "    bank = 'u-s-bank'\n",
    "    bank_col = [bank for i in range(unique_attrs)]\n",
    "    attr = attributes[:unique_attrs]\n",
    "    temp_df = pd.DataFrame(list(zip(attr, bank_col)), columns=['Tag', 'Bank'])\n",
    "    for i in range(unique_attrs, len(values), unique_attrs):\n",
    "        # print(int((i-unique_attrs)/unique_attrs))\n",
    "        li = values[i-unique_attrs : i]\n",
    "        l = pd.Series(li)\n",
    "        # print(i-unique_attrs, i, int((i-unique_attrs)/unique_attrs))\n",
    "        col = quarters[int((i-unique_attrs)/unique_attrs)]\n",
    "        col = re.sub(\"[A-Za-z]+\", \"\", col).replace(\"(\",\"\").replace(')',\"\")\n",
    "        temp_df.insert(temp_df.shape[1], col, li)\n",
    "    \n",
    "    return temp_df\n",
    "\n"
   ]
  },
  {
   "cell_type": "code",
   "execution_count": 131,
   "metadata": {},
   "outputs": [
    {
     "name": "stdout",
     "output_type": "stream",
     "text": [
      "https://www.usbanklocations.com//jpmorgan-chase-bank-financial-info.shtml?t=totaldeposits\n"
     ]
    }
   ],
   "source": [
    "# link = 'https://www.usbanklocations.com//jpmorgan-chase-bank-financial-info.shtml?t=totaldeposits'\n",
    "# df = scrape_link(link)"
   ]
  },
  {
   "cell_type": "code",
   "execution_count": 126,
   "metadata": {},
   "outputs": [],
   "source": [
    "def concat_links(links):#concat dfs for all links for 1 bank\n",
    "    df = pd.DataFrame()\n",
    "    for link in links:\n",
    "        n_df = scrape_link(link)\n",
    "        df = pd.concat([df, n_df], ignore_index=True)\n",
    "    return df\n",
    "# df = concat_links(links)\n",
    "#2m7.5s"
   ]
  },
  {
   "cell_type": "code",
   "execution_count": 135,
   "metadata": {},
   "outputs": [
    {
     "name": "stdout",
     "output_type": "stream",
     "text": [
      "https://www.usbanklocations.com//jpmorgan-chase-bank-financial-info.shtml?t=assetsliabilities\n",
      "https://www.usbanklocations.com//jpmorgan-chase-bank-financial-info.shtml?t=fiduciaryservices\n",
      "https://www.usbanklocations.com//jpmorgan-chase-bank-financial-info.shtml?t=carryingamountassetscovered\n",
      "https://www.usbanklocations.com//jpmorgan-chase-bank-financial-info.shtml?t=bankassetssold\n",
      "https://www.usbanklocations.com//jpmorgan-chase-bank-financial-info.shtml?t=performanceratios\n",
      "https://www.usbanklocations.com//jpmorgan-chase-bank-financial-info.shtml?t=cashbalancesdue\n",
      "https://www.usbanklocations.com//jpmorgan-chase-bank-financial-info.shtml?t=securities\n",
      "https://www.usbanklocations.com//jpmorgan-chase-bank-financial-info.shtml?t=loansleases\n",
      "https://www.usbanklocations.com//jpmorgan-chase-bank-financial-info.shtml?t=otherrealestate\n",
      "https://www.usbanklocations.com//jpmorgan-chase-bank-financial-info.shtml?t=goodwill\n",
      "https://www.usbanklocations.com//jpmorgan-chase-bank-financial-info.shtml?t=totaldeposits\n",
      "https://www.usbanklocations.com//jpmorgan-chase-bank-financial-info.shtml?t=changesequitycapital\n",
      "https://www.usbanklocations.com//jpmorgan-chase-bank-financial-info.shtml?t=totalunusedcommitments\n",
      "https://www.usbanklocations.com//jpmorgan-chase-bank-financial-info.shtml?t=assetsliabilitiesforeignoffices\n",
      "https://www.usbanklocations.com//jpmorgan-chase-bank-financial-info.shtml?t=derivatives\n",
      "https://www.usbanklocations.com//jpmorgan-chase-bank-financial-info.shtml?t=pastduenonaccrualassets\n",
      "https://www.usbanklocations.com//jpmorgan-chase-bank-financial-info.shtml?t=pastdueguaranteed\n",
      "https://www.usbanklocations.com//jpmorgan-chase-bank-financial-info.shtml?t=numberfiduciaryasset\n",
      "https://www.usbanklocations.com//jpmorgan-chase-bank-financial-info.shtml?t=fiduciaryasset\n",
      "https://www.usbanklocations.com//jpmorgan-chase-bank-financial-info.shtml?t=maxcreditexposure\n",
      "https://www.usbanklocations.com//jpmorgan-chase-bank-financial-info.shtml?t=unusedcommitments\n",
      "https://www.usbanklocations.com//jpmorgan-chase-bank-financial-info.shtml?t=ownershipinterests\n",
      "https://www.usbanklocations.com//jpmorgan-chase-bank-financial-info.shtml?t=memoranda\n",
      "https://www.usbanklocations.com//jpmorgan-chase-bank-financial-info.shtml?t=chargeoffsloans\n",
      "https://www.usbanklocations.com//jpmorgan-chase-bank-financial-info.shtml?t=noncurrentloans2loans\n",
      "https://www.usbanklocations.com//jpmorgan-chase-bank-financial-info.shtml?t=governmentobligations\n",
      "https://www.usbanklocations.com//jpmorgan-chase-bank-financial-info.shtml?t=totaldebtsecurities\n",
      "https://www.usbanklocations.com//jpmorgan-chase-bank-financial-info.shtml?t=familynetloansleases\n",
      "https://www.usbanklocations.com//jpmorgan-chase-bank-financial-info.shtml?t=depositoryinstitutions\n",
      "https://www.usbanklocations.com//jpmorgan-chase-bank-financial-info.shtml?t=loansleasesforeignoffices\n",
      "https://www.usbanklocations.com//jpmorgan-chase-bank-financial-info.shtml?t=maturityrepricing\n",
      "https://www.usbanklocations.com//jpmorgan-chase-bank-financial-info.shtml?t=smallbusinessloans\n",
      "https://www.usbanklocations.com//jpmorgan-chase-bank-financial-info.shtml?t=loansrestructured\n",
      "https://www.usbanklocations.com//jpmorgan-chase-bank-financial-info.shtml?t=transactionaccounts\n",
      "https://www.usbanklocations.com//jpmorgan-chase-bank-financial-info.shtml?t=nontransactionaccounts\n",
      "https://www.usbanklocations.com//jpmorgan-chase-bank-financial-info.shtml?t=timedeposits100kless\n",
      "https://www.usbanklocations.com//jpmorgan-chase-bank-financial-info.shtml?t=timedeposits100kmore\n",
      "https://www.usbanklocations.com//jpmorgan-chase-bank-financial-info.shtml?t=depositson100k\n",
      "https://www.usbanklocations.com//jpmorgan-chase-bank-financial-info.shtml?t=depositson250k\n",
      "https://www.usbanklocations.com//jpmorgan-chase-bank-financial-info.shtml?t=depositsinforeignoffice\n",
      "https://www.usbanklocations.com//jpmorgan-chase-bank-financial-info.shtml?t=lettersofcredit\n",
      "https://www.usbanklocations.com//jpmorgan-chase-bank-financial-info.shtml?t=pastdue3089days\n",
      "https://www.usbanklocations.com//jpmorgan-chase-bank-financial-info.shtml?t=pastdue90days\n",
      "https://www.usbanklocations.com//jpmorgan-chase-bank-financial-info.shtml?t=nonaccrualfamily\n",
      "https://www.usbanklocations.com//jpmorgan-chase-bank-financial-info.shtml?t=fiduciarymanagedasset\n",
      "https://www.usbanklocations.com//jpmorgan-chase-bank-financial-info.shtml?t=corporatetrust\n",
      "https://www.usbanklocations.com//jpmorgan-chase-bank-financial-info.shtml?t=collectiveinvestment\n",
      "https://www.usbanklocations.com//jpmorgan-chase-bank-financial-info.shtml?t=grossfiduciaryincome\n",
      "https://www.usbanklocations.com//jpmorgan-chase-bank-financial-info.shtml?t=fiduciarysettlements\n",
      "https://www.usbanklocations.com//jpmorgan-chase-bank-financial-info.shtml?t=chargeoffs\n",
      "https://www.usbanklocations.com//jpmorgan-chase-bank-financial-info.shtml?t=recoveries\n",
      "https://www.usbanklocations.com//jpmorgan-chase-bank-financial-info.shtml?t=netchargeoffs\n",
      "https://www.usbanklocations.com//jpmorgan-chase-bank-financial-info.shtml?t=incomeexpense\n",
      "https://www.usbanklocations.com//jpmorgan-chase-bank-financial-info.shtml?t=interestincome\n",
      "https://www.usbanklocations.com//jpmorgan-chase-bank-financial-info.shtml?t=interestexpense\n",
      "https://www.usbanklocations.com//jpmorgan-chase-bank-financial-info.shtml?t=tradinggainsfees\n",
      "https://www.usbanklocations.com//jpmorgan-chase-bank-financial-info.shtml?t=noninterestincome\n",
      "https://www.usbanklocations.com//jpmorgan-chase-bank-financial-info.shtml?t=noninterestexpense\n",
      "https://www.usbanklocations.com//jpmorgan-chase-bank-financial-info.shtml?t=loanchargerecoveries\n",
      "https://www.usbanklocations.com//jpmorgan-chase-bank-financial-info.shtml?t=cashdividends\n",
      "https://www.usbanklocations.com//jpmorgan-chase-bank-financial-info.shtml?t=interestforeignoffices\n"
     ]
    }
   ],
   "source": [
    "headers={\"user-agent\": \"Mozilla/5.0 (Windows NT 10.0; Win64; x64) AppleWebKit/537.36 (KHTML, like Gecko) Chrome/95.0.4638.54 Safari/537.36\"}\n",
    "bank = 'u-s-bank'\n",
    "url =f'https://www.usbanklocations.com/{bank}.shtml'\n",
    "page = requests.get(url, headers=headers)\n",
    "soup = BeautifulSoup(page.content, 'html.parser')\n",
    "\n",
    "base = \"https://www.usbanklocations.com/\"\n",
    "id1 = soup.find_all('div', class_ = 'id1')\n",
    "id2 = soup.find_all('div', class_ = 'id2')\n",
    "ids = id1 + id2\n",
    "lks = [base + id.find('a', href=True)['href'] for id in ids]\n",
    "links = lks[:-3]\n",
    "len(links)\n",
    "\n",
    "banks = ['jpmorgan-chase-bank', 'bank-of-america', 'u-s-bank'] # Automate this!!! (from home)\n",
    "\n",
    "def scrape_all_banks(banks):\n",
    "    df_1 = pd.DataFrame()\n",
    "    df_ine = pd.DataFrame()\n",
    "    base = \"https://www.usbanklocations.com/\"\n",
    "    for bank in banks:\n",
    "        url =f'https://www.usbanklocations.com/{bank}.shtml'\n",
    "        page = requests.get(url, headers=headers)\n",
    "        soup = BeautifulSoup(page.content, 'html.parser')\n",
    "        id1 = soup.find_all('div', class_ = 'id1')\n",
    "        id2 = soup.find_all('div', class_ = 'id2')\n",
    "        idt = soup.find_all('div', class_ = 'idtitle')\n",
    "        ids = idt + id1 + id2\n",
    "        lks = [base + id.find('a', href=True)['href'] for id in ids]\n",
    "        #to get a sep link set for income and exp section:\n",
    "        lks_indices = []# indices in lks for all incnexp links\n",
    "        # chargeoffs+2\n",
    "        chargeoffs = lks.index(f'https://www.usbanklocations.com//{bank}-financial-info.shtml?t=chargeoffs')\n",
    "        for i in range(chargeoffs, chargeoffs + 3):\n",
    "            lks_indices.append(i)\n",
    "        #ine\n",
    "        ine = lks.index(f'https://www.usbanklocations.com//{bank}-financial-info.shtml?t=incomeexpense')\n",
    "        lks_indices.append(ine)\n",
    "        #interest income + 7\n",
    "        ini = lks.index(f'https://www.usbanklocations.com//{bank}-financial-info.shtml?t=interestincome')\n",
    "        for i in range(ini, ini + 8):\n",
    "            lks_indices.append(i)\n",
    "\n",
    "        links2 = [lks[i] for i in lks_indices]\n",
    "        links1 = [lk for lk in lks if lk not in links2]\n",
    "\n",
    "        n_df_1 = concat_links(links1)#returns df for 1 bank\n",
    "        n_df_ine = concat_links(links2)\n",
    "        df_1 = pd.concat([df_1, n_df_1], ignore_index=True)\n",
    "        df_ine = pd.concat([df_ine, n_df_ine], ignore_index=True)\n",
    "    return df_1, df_ine\n",
    "\n",
    "df_1, df_ine = scrape_all_banks(banks)"
   ]
  },
  {
   "cell_type": "code",
   "execution_count": 144,
   "metadata": {},
   "outputs": [
    {
     "data": {
      "text/html": [
       "<div>\n",
       "<style scoped>\n",
       "    .dataframe tbody tr th:only-of-type {\n",
       "        vertical-align: middle;\n",
       "    }\n",
       "\n",
       "    .dataframe tbody tr th {\n",
       "        vertical-align: top;\n",
       "    }\n",
       "\n",
       "    .dataframe thead th {\n",
       "        text-align: right;\n",
       "    }\n",
       "</style>\n",
       "<table border=\"1\" class=\"dataframe\">\n",
       "  <thead>\n",
       "    <tr style=\"text-align: right;\">\n",
       "      <th></th>\n",
       "      <th>Tag</th>\n",
       "      <th>Bank</th>\n",
       "      <th>2023-12-31</th>\n",
       "      <th>2023-09-30</th>\n",
       "      <th>2023-06-30</th>\n",
       "      <th>2023-03-31</th>\n",
       "      <th>2022-12-31</th>\n",
       "      <th>2022-09-30</th>\n",
       "      <th>2022-06-30</th>\n",
       "      <th>2022-03-31</th>\n",
       "      <th>...</th>\n",
       "      <th>2002-12-31</th>\n",
       "      <th>2001-12-31</th>\n",
       "      <th>2000-12-31</th>\n",
       "      <th>1999-12-31</th>\n",
       "      <th>1998-12-31</th>\n",
       "      <th>1997-12-31</th>\n",
       "      <th>1996-12-31</th>\n",
       "      <th>1995-12-31</th>\n",
       "      <th>1994-12-31</th>\n",
       "      <th>1993-12-31</th>\n",
       "    </tr>\n",
       "  </thead>\n",
       "  <tbody>\n",
       "    <tr>\n",
       "      <th>0</th>\n",
       "      <td># of Employees:</td>\n",
       "      <td>u-s-bank</td>\n",
       "      <td>226,822</td>\n",
       "      <td>226,649</td>\n",
       "      <td>219,830</td>\n",
       "      <td>221,852</td>\n",
       "      <td>220,271</td>\n",
       "      <td>216,524</td>\n",
       "      <td>210,348</td>\n",
       "      <td>207,949</td>\n",
       "      <td>...</td>\n",
       "      <td>77,286</td>\n",
       "      <td>67,401</td>\n",
       "      <td>56,567</td>\n",
       "      <td>41,563</td>\n",
       "      <td>42,229</td>\n",
       "      <td>41,670</td>\n",
       "      <td>41,615</td>\n",
       "      <td>24,042</td>\n",
       "      <td>25,546</td>\n",
       "      <td>26,409</td>\n",
       "    </tr>\n",
       "    <tr>\n",
       "      <th>1</th>\n",
       "      <td>Total Assets:</td>\n",
       "      <td>u-s-bank</td>\n",
       "      <td>$3,395,126,000,000</td>\n",
       "      <td>$3,385,581,000,000</td>\n",
       "      <td>$3,382,195,000,000</td>\n",
       "      <td>$3,267,963,000,000</td>\n",
       "      <td>$3,201,942,000,000</td>\n",
       "      <td>$3,308,575,000,000</td>\n",
       "      <td>$3,380,824,000,000</td>\n",
       "      <td>$3,476,711,000,000</td>\n",
       "      <td>...</td>\n",
       "      <td>$621,962,000,000</td>\n",
       "      <td>$537,826,000,000</td>\n",
       "      <td>$377,116,000,000</td>\n",
       "      <td>$332,198,000,000</td>\n",
       "      <td>$296,717,000,000</td>\n",
       "      <td>$297,061,000,000</td>\n",
       "      <td>$272,429,000,000</td>\n",
       "      <td>$147,120,000,000</td>\n",
       "      <td>$135,742,000,000</td>\n",
       "      <td>$115,510,000,000</td>\n",
       "    </tr>\n",
       "    <tr>\n",
       "      <th>2</th>\n",
       "      <td>Cash and due from depository institutions</td>\n",
       "      <td>u-s-bank</td>\n",
       "      <td>$625,344,000,000</td>\n",
       "      <td>$512,606,000,000</td>\n",
       "      <td>$495,678,000,000</td>\n",
       "      <td>$551,018,000,000</td>\n",
       "      <td>$568,546,000,000</td>\n",
       "      <td>$645,394,000,000</td>\n",
       "      <td>$670,549,000,000</td>\n",
       "      <td>$755,227,000,000</td>\n",
       "      <td>...</td>\n",
       "      <td>$26,518,000,000</td>\n",
       "      <td>$33,891,000,000</td>\n",
       "      <td>$29,256,000,000</td>\n",
       "      <td>$43,436,000,000</td>\n",
       "      <td>$21,720,000,000</td>\n",
       "      <td>$15,856,000,000</td>\n",
       "      <td>$19,966,000,000</td>\n",
       "      <td>$8,934,000,000</td>\n",
       "      <td>$11,775,000,000</td>\n",
       "      <td>$10,200,000,000</td>\n",
       "    </tr>\n",
       "    <tr>\n",
       "      <th>3</th>\n",
       "      <td>Interest-bearing balances</td>\n",
       "      <td>u-s-bank</td>\n",
       "      <td>$596,560,000,000</td>\n",
       "      <td>$487,912,000,000</td>\n",
       "      <td>$469,895,000,000</td>\n",
       "      <td>$526,190,000,000</td>\n",
       "      <td>$541,288,000,000</td>\n",
       "      <td>$621,254,000,000</td>\n",
       "      <td>$643,781,000,000</td>\n",
       "      <td>$729,509,000,000</td>\n",
       "      <td>...</td>\n",
       "      <td>$8,392,000,000</td>\n",
       "      <td>$12,495,000,000</td>\n",
       "      <td>$6,608,000,000</td>\n",
       "      <td>$30,165,000,000</td>\n",
       "      <td>$7,805,000,000</td>\n",
       "      <td>$3,428,000,000</td>\n",
       "      <td>$8,457,000,000</td>\n",
       "      <td>$2,544,000,000</td>\n",
       "      <td>$5,484,000,000</td>\n",
       "      <td>$5,829,000,000</td>\n",
       "    </tr>\n",
       "    <tr>\n",
       "      <th>4</th>\n",
       "      <td>Securities</td>\n",
       "      <td>u-s-bank</td>\n",
       "      <td>$572,099,000,000</td>\n",
       "      <td>$586,350,000,000</td>\n",
       "      <td>$613,045,000,000</td>\n",
       "      <td>$610,041,000,000</td>\n",
       "      <td>$631,123,000,000</td>\n",
       "      <td>$618,208,000,000</td>\n",
       "      <td>$663,670,000,000</td>\n",
       "      <td>$679,289,000,000</td>\n",
       "      <td>...</td>\n",
       "      <td>$79,768,000,000</td>\n",
       "      <td>$53,358,000,000</td>\n",
       "      <td>$67,112,000,000</td>\n",
       "      <td>$55,494,000,000</td>\n",
       "      <td>$57,756,000,000</td>\n",
       "      <td>$45,619,000,000</td>\n",
       "      <td>$43,662,000,000</td>\n",
       "      <td>$30,329,000,000</td>\n",
       "      <td>$23,012,000,000</td>\n",
       "      <td>$21,834,000,000</td>\n",
       "    </tr>\n",
       "  </tbody>\n",
       "</table>\n",
       "<p>5 rows × 96 columns</p>\n",
       "</div>"
      ],
      "text/plain": [
       "                                         Tag      Bank          2023-12-31  \\\n",
       "0                            # of Employees:  u-s-bank             226,822   \n",
       "1                              Total Assets:  u-s-bank  $3,395,126,000,000   \n",
       "2  Cash and due from depository institutions  u-s-bank    $625,344,000,000   \n",
       "3                  Interest-bearing balances  u-s-bank    $596,560,000,000   \n",
       "4                                 Securities  u-s-bank    $572,099,000,000   \n",
       "\n",
       "           2023-09-30          2023-06-30          2023-03-31  \\\n",
       "0             226,649             219,830             221,852   \n",
       "1  $3,385,581,000,000  $3,382,195,000,000  $3,267,963,000,000   \n",
       "2    $512,606,000,000    $495,678,000,000    $551,018,000,000   \n",
       "3    $487,912,000,000    $469,895,000,000    $526,190,000,000   \n",
       "4    $586,350,000,000    $613,045,000,000    $610,041,000,000   \n",
       "\n",
       "           2022-12-31          2022-09-30          2022-06-30  \\\n",
       "0             220,271             216,524             210,348   \n",
       "1  $3,201,942,000,000  $3,308,575,000,000  $3,380,824,000,000   \n",
       "2    $568,546,000,000    $645,394,000,000    $670,549,000,000   \n",
       "3    $541,288,000,000    $621,254,000,000    $643,781,000,000   \n",
       "4    $631,123,000,000    $618,208,000,000    $663,670,000,000   \n",
       "\n",
       "           2022-03-31  ...        2002-12-31        2001-12-31  \\\n",
       "0             207,949  ...            77,286            67,401   \n",
       "1  $3,476,711,000,000  ...  $621,962,000,000  $537,826,000,000   \n",
       "2    $755,227,000,000  ...   $26,518,000,000   $33,891,000,000   \n",
       "3    $729,509,000,000  ...    $8,392,000,000   $12,495,000,000   \n",
       "4    $679,289,000,000  ...   $79,768,000,000   $53,358,000,000   \n",
       "\n",
       "         2000-12-31        1999-12-31        1998-12-31        1997-12-31  \\\n",
       "0            56,567            41,563            42,229            41,670   \n",
       "1  $377,116,000,000  $332,198,000,000  $296,717,000,000  $297,061,000,000   \n",
       "2   $29,256,000,000   $43,436,000,000   $21,720,000,000   $15,856,000,000   \n",
       "3    $6,608,000,000   $30,165,000,000    $7,805,000,000    $3,428,000,000   \n",
       "4   $67,112,000,000   $55,494,000,000   $57,756,000,000   $45,619,000,000   \n",
       "\n",
       "         1996-12-31        1995-12-31        1994-12-31        1993-12-31  \n",
       "0            41,615            24,042            25,546            26,409  \n",
       "1  $272,429,000,000  $147,120,000,000  $135,742,000,000  $115,510,000,000  \n",
       "2   $19,966,000,000    $8,934,000,000   $11,775,000,000   $10,200,000,000  \n",
       "3    $8,457,000,000    $2,544,000,000    $5,484,000,000    $5,829,000,000  \n",
       "4   $43,662,000,000   $30,329,000,000   $23,012,000,000   $21,834,000,000  \n",
       "\n",
       "[5 rows x 96 columns]"
      ]
     },
     "execution_count": 144,
     "metadata": {},
     "output_type": "execute_result"
    }
   ],
   "source": [
    "df_ine.shape\n",
    "df_1.head()"
   ]
  },
  {
   "cell_type": "code",
   "execution_count": 141,
   "metadata": {},
   "outputs": [],
   "source": [
    "df_1.to_csv(\"../../data/raw/banks_basic.csv\")\n",
    "df_ine.to_csv(\"../../data/raw/banks_income_expense.csv\")"
   ]
  },
  {
   "cell_type": "code",
   "execution_count": 95,
   "metadata": {},
   "outputs": [
    {
     "data": {
      "text/plain": [
       "'Need to transform vals from str to int'"
      ]
     },
     "execution_count": 95,
     "metadata": {},
     "output_type": "execute_result"
    }
   ],
   "source": [
    "\"\"\"Need to transform vals from str to int\n",
    "Also need column-row transforms - not sure we need the dates as cols, even if we do, need to change it to 2022q1 etc\n",
    "i think 1 link got up and gave legacy data - 95 cols of them amounting to 192 tot cols\n",
    "Which idiot? - The entirety of the income and expenses section\n",
    "So, am just gonna put them in a separate df and file cos, diff format\n",
    "Can just adjust while querying data or transformin, mustn b a prob matching col heads\n",
    "Am gonna remove all of them for now, can just rerun and add later if desparately req\"\"\""
   ]
  },
  {
   "cell_type": "code",
   "execution_count": null,
   "metadata": {},
   "outputs": [],
   "source": []
  }
 ],
 "metadata": {
  "kernelspec": {
   "display_name": "Python 3",
   "language": "python",
   "name": "python3"
  },
  "language_info": {
   "codemirror_mode": {
    "name": "ipython",
    "version": 3
   },
   "file_extension": ".py",
   "mimetype": "text/x-python",
   "name": "python",
   "nbconvert_exporter": "python",
   "pygments_lexer": "ipython3",
   "version": "3.9.12"
  }
 },
 "nbformat": 4,
 "nbformat_minor": 2
}
