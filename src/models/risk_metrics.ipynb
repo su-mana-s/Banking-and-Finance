{
 "cells": [
  {
   "cell_type": "code",
   "execution_count": 4,
   "metadata": {},
   "outputs": [],
   "source": [
    "import pandas as pd"
   ]
  },
  {
   "cell_type": "code",
   "execution_count": null,
   "metadata": {},
   "outputs": [],
   "source": [
    "# there are ratios in the data, can they be used?\n",
    "# (I dont think interpretations alone are going to cut it)\n",
    "# So what can I do with these ratios?"
   ]
  },
  {
   "cell_type": "code",
   "execution_count": null,
   "metadata": {},
   "outputs": [],
   "source": [
    "# ooh, if I can find something like LCR(ofc, excepting other ratios such as quick), then I can generate a \n",
    "# basic basel report> bool:compliant/not\n",
    "# you dont really need uslocs for this cos you dont need large time data, you are calculating assets for a point\n",
    "# so, use balance sheets"
   ]
  },
  {
   "cell_type": "code",
   "execution_count": 226,
   "metadata": {},
   "outputs": [
    {
     "data": {
      "text/plain": [
       "'I can do simple metrics calculaitons and maybe predict them, but the regression does not seem to be working'"
      ]
     },
     "execution_count": 226,
     "metadata": {},
     "output_type": "execute_result"
    }
   ],
   "source": [
    "\"\"\"I can do simple metrics calculaitons and maybe predict them, but the regression does not seem to be working\"\"\""
   ]
  },
  {
   "cell_type": "code",
   "execution_count": null,
   "metadata": {},
   "outputs": [],
   "source": [
    "# quick ratio, cash ratio, net working capital ratio, curretn ratio vs liq ratio\n",
    "\n",
    "#Tier 1 (core) risk-based capital\n",
    "#Tier 2 risk-based capital\n",
    "#Equity capital to assets\n",
    "#Core capital (leverage) ratio"
   ]
  },
  {
   "cell_type": "code",
   "execution_count": 3,
   "metadata": {},
   "outputs": [
    {
     "data": {
      "text/plain": [
       "16.93520691328921"
      ]
     },
     "execution_count": 3,
     "metadata": {},
     "output_type": "execute_result"
    }
   ],
   "source": [
    "# commonstk = 3020000000\n",
    "# toteqtycap = 236206000000\n",
    "# riskwtd_assets = 1394763000000\n",
    "# toteqtycap/riskwtd_assets * 100"
   ]
  },
  {
   "cell_type": "markdown",
   "metadata": {},
   "source": [
    "## Basic Stats Analysis"
   ]
  },
  {
   "cell_type": "code",
   "execution_count": 5,
   "metadata": {},
   "outputs": [],
   "source": [
    "df = pd.read_csv(\"../../data/raw/fin_statements/bofa_bs.csv\")"
   ]
  },
  {
   "cell_type": "code",
   "execution_count": 7,
   "metadata": {},
   "outputs": [
    {
     "data": {
      "text/html": [
       "<div>\n",
       "<style scoped>\n",
       "    .dataframe tbody tr th:only-of-type {\n",
       "        vertical-align: middle;\n",
       "    }\n",
       "\n",
       "    .dataframe tbody tr th {\n",
       "        vertical-align: top;\n",
       "    }\n",
       "\n",
       "    .dataframe thead th {\n",
       "        text-align: right;\n",
       "    }\n",
       "</style>\n",
       "<table border=\"1\" class=\"dataframe\">\n",
       "  <thead>\n",
       "    <tr style=\"text-align: right;\">\n",
       "      <th></th>\n",
       "      <th>Breakdown</th>\n",
       "      <th>Bank</th>\n",
       "      <th>12/31/2023</th>\n",
       "      <th>12/31/2022</th>\n",
       "      <th>12/31/2021</th>\n",
       "      <th>12/31/2020</th>\n",
       "    </tr>\n",
       "  </thead>\n",
       "  <tbody>\n",
       "    <tr>\n",
       "      <th>0</th>\n",
       "      <td>Total Assets</td>\n",
       "      <td>BAC</td>\n",
       "      <td>3,180,151,000</td>\n",
       "      <td>2,819,627,000</td>\n",
       "      <td>3,169,495,000</td>\n",
       "      <td>505,036,000</td>\n",
       "    </tr>\n",
       "    <tr>\n",
       "      <th>1</th>\n",
       "      <td>Cash, Cash Equivalents &amp; Federal Funds Sold</td>\n",
       "      <td>BAC</td>\n",
       "      <td>622,043,000</td>\n",
       "      <td>237,462,000</td>\n",
       "      <td>606,085,000</td>\n",
       "      <td>387,009,000</td>\n",
       "    </tr>\n",
       "    <tr>\n",
       "      <th>2</th>\n",
       "      <td>Cash And Cash Equivalents</td>\n",
       "      <td>BAC</td>\n",
       "      <td>341,419,000</td>\n",
       "      <td>36,430,000</td>\n",
       "      <td>355,365,000</td>\n",
       "      <td>199,869,000</td>\n",
       "    </tr>\n",
       "    <tr>\n",
       "      <th>3</th>\n",
       "      <td>Cash</td>\n",
       "      <td>BAC</td>\n",
       "      <td>27,892,000</td>\n",
       "      <td>7,259,000</td>\n",
       "      <td>29,222,000</td>\n",
       "      <td>6,546,000</td>\n",
       "    </tr>\n",
       "    <tr>\n",
       "      <th>4</th>\n",
       "      <td>Cash And Due from Banks</td>\n",
       "      <td>BAC</td>\n",
       "      <td>305,181,000</td>\n",
       "      <td>304,058,000</td>\n",
       "      <td>318,999,000</td>\n",
       "      <td>1,043,422,000</td>\n",
       "    </tr>\n",
       "    <tr>\n",
       "      <th>5</th>\n",
       "      <td>Interest Bearing Deposits Assets</td>\n",
       "      <td>BAC</td>\n",
       "      <td>8,346,000</td>\n",
       "      <td>180,603,000</td>\n",
       "      <td>7,144,000</td>\n",
       "      <td>107,344,000</td>\n",
       "    </tr>\n",
       "    <tr>\n",
       "      <th>6</th>\n",
       "      <td>Money Market Investments</td>\n",
       "      <td>BAC</td>\n",
       "      <td>280,624,000</td>\n",
       "      <td>12,110,000</td>\n",
       "      <td>250,720,000</td>\n",
       "      <td>632,825,000</td>\n",
       "    </tr>\n",
       "    <tr>\n",
       "      <th>7</th>\n",
       "      <td>Securities and Investments</td>\n",
       "      <td>BAC</td>\n",
       "      <td>1,017,946,000</td>\n",
       "      <td>220,788,000</td>\n",
       "      <td>1,126,273,000</td>\n",
       "      <td>234,491,000</td>\n",
       "    </tr>\n",
       "    <tr>\n",
       "      <th>8</th>\n",
       "      <td>Trading Securities</td>\n",
       "      <td>BAC</td>\n",
       "      <td>146,539,000</td>\n",
       "      <td>47,179,000</td>\n",
       "      <td>143,646,000</td>\n",
       "      <td>1,026,344,000</td>\n",
       "    </tr>\n",
       "    <tr>\n",
       "      <th>9</th>\n",
       "      <td>Available for Sale Securities</td>\n",
       "      <td>BAC</td>\n",
       "      <td>10,203,000</td>\n",
       "      <td>1,038,974,000</td>\n",
       "      <td>8,895,000</td>\n",
       "      <td>920,006,000</td>\n",
       "    </tr>\n",
       "  </tbody>\n",
       "</table>\n",
       "</div>"
      ],
      "text/plain": [
       "                                     Breakdown Bank     12/31/2023  \\\n",
       "0                                 Total Assets  BAC  3,180,151,000   \n",
       "1  Cash, Cash Equivalents & Federal Funds Sold  BAC    622,043,000   \n",
       "2                    Cash And Cash Equivalents  BAC    341,419,000   \n",
       "3                                         Cash  BAC     27,892,000   \n",
       "4                      Cash And Due from Banks  BAC    305,181,000   \n",
       "5             Interest Bearing Deposits Assets  BAC      8,346,000   \n",
       "6                     Money Market Investments  BAC    280,624,000   \n",
       "7                   Securities and Investments  BAC  1,017,946,000   \n",
       "8                           Trading Securities  BAC    146,539,000   \n",
       "9                Available for Sale Securities  BAC     10,203,000   \n",
       "\n",
       "      12/31/2022     12/31/2021     12/31/2020  \n",
       "0  2,819,627,000  3,169,495,000    505,036,000  \n",
       "1    237,462,000    606,085,000    387,009,000  \n",
       "2     36,430,000    355,365,000    199,869,000  \n",
       "3      7,259,000     29,222,000      6,546,000  \n",
       "4    304,058,000    318,999,000  1,043,422,000  \n",
       "5    180,603,000      7,144,000    107,344,000  \n",
       "6     12,110,000    250,720,000    632,825,000  \n",
       "7    220,788,000  1,126,273,000    234,491,000  \n",
       "8     47,179,000    143,646,000  1,026,344,000  \n",
       "9  1,038,974,000      8,895,000    920,006,000  "
      ]
     },
     "execution_count": 7,
     "metadata": {},
     "output_type": "execute_result"
    }
   ],
   "source": [
    "df.head(10)\n",
    "\"\"\"Last col -20 is all wrong, actually -grey cols\"\"\""
   ]
  },
  {
   "cell_type": "markdown",
   "metadata": {},
   "source": [
    "### Liquidity"
   ]
  },
  {
   "cell_type": "code",
   "execution_count": 219,
   "metadata": {},
   "outputs": [],
   "source": [
    "ca = ['Cash, Cash Equivalents & Federal Funds Sold',  'Available for Sale Securities',\n",
    "      'Trading Securities', 'Other Short Term Investments', 'Loans Held for Sale', 'Accounts receivable', \n",
    "      'Other Receivables', 'Other Assets', 'Derivative Assets', 'Held To Maturity Securities']\n",
    "\n",
    "# cce: 'Cash And Cash Equivalents', 'Cash', 'Cash And Due from Banks','Interest Bearing Deposits Assets', 'Money Market Investments',\n",
    "\n",
    " # this includes cash, cash eq, marketable securities, accs recievable\n",
    "# I am not really seeing prepaid expenses or inventory on the balance sheet - they all seem quick enough to me\n",
    "# or shld I split qa along trading securities, other short term inv, loans held for sale\n",
    "qa = ['Cash, Cash Equivalents & Federal Funds Sold', 'Available for Sale Securities',\n",
    "      'Trading Securities', 'Accounts receivable']\n",
    "\n",
    "\n",
    "\n",
    "cl = ['Total Deposits','Federal Funds Purchased And Securities Sold Under Agreement To Repurchase', 'Current Accrued Expenses',\n",
    "      'Current Debt And Capital Lease Obligation', 'Trading Liabilities', 'Derivative Product Liabilities', 'Other Liabilities']\n",
    "# ambiguous = derviative assets, HMS, \n"
   ]
  },
  {
   "cell_type": "markdown",
   "metadata": {},
   "source": [
    "#### Quick ratio & Current Ratio"
   ]
  },
  {
   "cell_type": "code",
   "execution_count": 220,
   "metadata": {},
   "outputs": [],
   "source": [
    "def get_qancl(df): # all rows of quick a and curr liab, ca for all banks\n",
    "    quick_assets = []\n",
    "    current_liabilities = []\n",
    "    current_assets = []\n",
    "    for idx, row in df.iterrows():\n",
    "        if row['Breakdown'] in qa:\n",
    "            quick_assets.append(row)\n",
    "        if row[\"Breakdown\"] in cl:\n",
    "            current_liabilities.append(row)\n",
    "        if row[\"Breakdown\"] in ca:\n",
    "            current_assets.append(row)\n",
    "    return quick_assets, current_assets, current_liabilities\n",
    "    \n",
    "    # len(current_assets), len(current_liabilities)\n"
   ]
  },
  {
   "cell_type": "code",
   "execution_count": 221,
   "metadata": {},
   "outputs": [],
   "source": [
    "def get_qancl_yr(yr, bank, quick_assets, current_assets, current_liabilities): # total canl for yr \n",
    "    # pass yr as index : '23-2, '22 - 3, '21-4, '20-5 \n",
    "    qa_yr = 0\n",
    "    cl_yr = 0\n",
    "    ca_yr = 0\n",
    "    for asset in quick_assets:\n",
    "        if asset[1] == bank:\n",
    "            print(asset[yr])\n",
    "            val = int(asset[yr].replace(',', \"\").replace(\"-\", \"-1\"))\n",
    "            if val == -1:\n",
    "                for i in range(2, 6):\n",
    "                    if i != yr:\n",
    "                        val += int(asset[i].replace(',', \"\")) \n",
    "                val = val/3\n",
    "            qa_yr += val\n",
    "\n",
    "    \n",
    "    for lia in current_liabilities:\n",
    "        if asset[1] == bank:\n",
    "            val = int(lia[2].replace(',', \"\").replace(\"-\", \"-1\"))\n",
    "            if val == -1:\n",
    "                for i in range(2, 6):\n",
    "                    if i != yr:\n",
    "                        val += int(asset[i].replace(',', \"\"))\n",
    "                val = val/3\n",
    "            cl_yr += val\n",
    "\n",
    "    for asset in current_assets:\n",
    "        if asset[1] == bank:\n",
    "            val = int(asset[yr].replace(',', \"\").replace(\"-\", \"-1\"))\n",
    "            if val == -1:\n",
    "                for i in range(2, 6):\n",
    "                    if i != yr:\n",
    "                        val += int(asset[i].replace(',', \"\")) \n",
    "                val = val/3\n",
    "            ca_yr += val\n",
    "\n",
    "    return qa_yr*1000, ca_yr*1000, cl_yr*1000  # for yr for bank\n",
    "# all yf values are in thousands\n",
    "\n"
   ]
  },
  {
   "cell_type": "code",
   "execution_count": 222,
   "metadata": {},
   "outputs": [
    {
     "name": "stdout",
     "output_type": "stream",
     "text": [
      "606,085,000\n",
      "143,646,000\n",
      "8,895,000\n",
      "72,263,000\n"
     ]
    }
   ],
   "source": [
    "quick_assets, current_assets, current_liabilities = get_qancl(df)\n",
    "qa_23, ca_23, cl_23 = get_qancl_yr(4, 'BAC', quick_assets, current_assets, current_liabilities)\n",
    "quick_ratio = qa_23/cl_23 \n",
    "current_ratio = ca_23/cl_23"
   ]
  },
  {
   "cell_type": "code",
   "execution_count": 223,
   "metadata": {},
   "outputs": [
    {
     "data": {
      "text/plain": [
       "(0.33441268393436324, 830.889, 2484.6216663333335)"
      ]
     },
     "execution_count": 223,
     "metadata": {},
     "output_type": "execute_result"
    }
   ],
   "source": [
    "quick_ratio, qa_23/10**9, cl_23/10**9"
   ]
  },
  {
   "cell_type": "code",
   "execution_count": 224,
   "metadata": {},
   "outputs": [
    {
     "data": {
      "text/plain": [
       "(0.4611172861946275, 1145.702)"
      ]
     },
     "execution_count": 224,
     "metadata": {},
     "output_type": "execute_result"
    }
   ],
   "source": [
    "current_ratio, ca_23/10**9"
   ]
  },
  {
   "cell_type": "code",
   "execution_count": 225,
   "metadata": {},
   "outputs": [],
   "source": [
    "# the grey cols are wrong - rescrape and check incom, cash flow also :==="
   ]
  },
  {
   "cell_type": "code",
   "execution_count": null,
   "metadata": {},
   "outputs": [],
   "source": []
  }
 ],
 "metadata": {
  "kernelspec": {
   "display_name": "Python 3",
   "language": "python",
   "name": "python3"
  },
  "language_info": {
   "codemirror_mode": {
    "name": "ipython",
    "version": 3
   },
   "file_extension": ".py",
   "mimetype": "text/x-python",
   "name": "python",
   "nbconvert_exporter": "python",
   "pygments_lexer": "ipython3",
   "version": "3.9.12"
  }
 },
 "nbformat": 4,
 "nbformat_minor": 2
}
