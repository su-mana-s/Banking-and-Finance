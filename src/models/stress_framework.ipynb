{
 "cells": [
  {
   "cell_type": "code",
   "execution_count": 1,
   "metadata": {},
   "outputs": [],
   "source": [
    "import pandas as pd"
   ]
  },
  {
   "cell_type": "code",
   "execution_count": 2,
   "metadata": {},
   "outputs": [],
   "source": [
    "ine = pd.read_csv(\"../../data/raw/uslocs/banks_income_expense_final.csv\")\n",
    "basic = pd.read_csv(\"../../data/raw/uslocs/banks_basic_final.csv\")"
   ]
  },
  {
   "cell_type": "code",
   "execution_count": 3,
   "metadata": {},
   "outputs": [
    {
     "data": {
      "text/html": [
       "<div>\n",
       "<style scoped>\n",
       "    .dataframe tbody tr th:only-of-type {\n",
       "        vertical-align: middle;\n",
       "    }\n",
       "\n",
       "    .dataframe tbody tr th {\n",
       "        vertical-align: top;\n",
       "    }\n",
       "\n",
       "    .dataframe thead th {\n",
       "        text-align: right;\n",
       "    }\n",
       "</style>\n",
       "<table border=\"1\" class=\"dataframe\">\n",
       "  <thead>\n",
       "    <tr style=\"text-align: right;\">\n",
       "      <th></th>\n",
       "      <th>Tag</th>\n",
       "      <th>Bank</th>\n",
       "      <th>2023-12-31</th>\n",
       "      <th>2023-09-30</th>\n",
       "      <th>2023-06-30</th>\n",
       "      <th>2023-03-31</th>\n",
       "      <th>2022-12-31</th>\n",
       "      <th>2022-09-30</th>\n",
       "      <th>2022-06-30</th>\n",
       "      <th>2022-03-31</th>\n",
       "      <th>...</th>\n",
       "      <th>2002-12-31</th>\n",
       "      <th>2001-12-31</th>\n",
       "      <th>2000-12-31</th>\n",
       "      <th>1999-12-31</th>\n",
       "      <th>1998-12-31</th>\n",
       "      <th>1997-12-31</th>\n",
       "      <th>1996-12-31</th>\n",
       "      <th>1995-12-31</th>\n",
       "      <th>1994-12-31</th>\n",
       "      <th>1993-12-31</th>\n",
       "    </tr>\n",
       "  </thead>\n",
       "  <tbody>\n",
       "    <tr>\n",
       "      <th>0</th>\n",
       "      <td>Total charge-offs secured by 1-4 family reside...</td>\n",
       "      <td>jpmorgan-chase-bank</td>\n",
       "      <td>$202,000,000</td>\n",
       "      <td>$127,000,000</td>\n",
       "      <td>$70,000,000</td>\n",
       "      <td>$17,000,000</td>\n",
       "      <td>$74,000,000</td>\n",
       "      <td>$64,000,000</td>\n",
       "      <td>$50,000,000</td>\n",
       "      <td>$29,000,000</td>\n",
       "      <td>...</td>\n",
       "      <td>$48,000,000</td>\n",
       "      <td>$29,000,000</td>\n",
       "      <td>$45,000,000</td>\n",
       "      <td>$20,000,000</td>\n",
       "      <td>$21,000,000</td>\n",
       "      <td>$25,000,000</td>\n",
       "      <td>$26,000,000</td>\n",
       "      <td>$49,000,000</td>\n",
       "      <td>$64,000,000</td>\n",
       "      <td>$63,000,000</td>\n",
       "    </tr>\n",
       "  </tbody>\n",
       "</table>\n",
       "<p>1 rows × 96 columns</p>\n",
       "</div>"
      ],
      "text/plain": [
       "                                                 Tag                 Bank  \\\n",
       "0  Total charge-offs secured by 1-4 family reside...  jpmorgan-chase-bank   \n",
       "\n",
       "   2023-12-31    2023-09-30   2023-06-30   2023-03-31   2022-12-31    \\\n",
       "0  $202,000,000  $127,000,000  $70,000,000  $17,000,000  $74,000,000   \n",
       "\n",
       "  2022-09-30   2022-06-30   2022-03-31    ... 2002-12-31   2001-12-31    \\\n",
       "0  $64,000,000  $50,000,000  $29,000,000  ...  $48,000,000  $29,000,000   \n",
       "\n",
       "  2000-12-31   1999-12-31   1998-12-31   1997-12-31   1996-12-31    \\\n",
       "0  $45,000,000  $20,000,000  $21,000,000  $25,000,000  $26,000,000   \n",
       "\n",
       "  1995-12-31   1994-12-31   1993-12-31    \n",
       "0  $49,000,000  $64,000,000  $63,000,000  \n",
       "\n",
       "[1 rows x 96 columns]"
      ]
     },
     "execution_count": 3,
     "metadata": {},
     "output_type": "execute_result"
    }
   ],
   "source": [
    "ine.head(1)"
   ]
  },
  {
   "cell_type": "code",
   "execution_count": 4,
   "metadata": {},
   "outputs": [],
   "source": [
    "def clean_vals(s):\n",
    "    st = s[:]\n",
    "    st = st.replace(\",\",\"\").replace(\"$\", \"\")\n",
    "    i = int(st)\n",
    "    return i"
   ]
  },
  {
   "cell_type": "code",
   "execution_count": 5,
   "metadata": {},
   "outputs": [],
   "source": [
    "def date_to_qtr(date):\n",
    "    yr = date[:4]\n",
    "    q = date[5:7]\n",
    "    if q == '12':\n",
    "        qtr = 'Q4'\n",
    "    if q == '09':\n",
    "        qtr = 'Q3'\n",
    "    if q == '06':\n",
    "        qtr = 'Q2'\n",
    "    if q == '03':\n",
    "        qtr = 'Q1'    \n",
    "    return (yr + \" \" + qtr)\n"
   ]
  },
  {
   "cell_type": "markdown",
   "metadata": {},
   "source": [
    "## Projection Frameworks"
   ]
  },
  {
   "cell_type": "code",
   "execution_count": 6,
   "metadata": {},
   "outputs": [],
   "source": [
    "cols = ine.columns[2:]\n",
    "d2q = {col : date_to_qtr(col) for col in cols}\n",
    "ine = ine.rename(columns=d2q)\n",
    "cols = basic.columns[2:]\n",
    "d2q = {col : date_to_qtr(col) for col in cols}\n",
    "basic = basic.rename(columns=d2q)"
   ]
  },
  {
   "cell_type": "code",
   "execution_count": 7,
   "metadata": {},
   "outputs": [],
   "source": [
    "tags = ['Net interest income', 'Total noninterest income', 'Total noninterest expense', \n",
    "        'Additional Noninterest Income', 'Additional noninterest expense', \n",
    "        'Pre-tax net operating income', 'Net gains (losses) on sales of loans', 'Securities gains (losses)',\n",
    "        'Net gains (losses) on sales of other assets (excluding securities)', 'Provision for loan and lease losses',\n",
    "        'Applicable income taxes', 'Minority interest net income']\n",
    "#(ppnr) - pre-tax net income"
   ]
  },
  {
   "cell_type": "code",
   "execution_count": 8,
   "metadata": {},
   "outputs": [],
   "source": [
    "bank = 'jpmorgan-chase-bank'\n",
    "def get_lists(bank):\n",
    "    lists = {}\n",
    "\n",
    "    for idx, row in ine.iterrows():\n",
    "        if row['Bank'] == bank:\n",
    "            if  row['Tag'] in tags:\n",
    "                lists[row[\"Tag\"]] = row\n",
    "    \n",
    "    return lists\n",
    "lists = get_lists(bank)"
   ]
  },
  {
   "cell_type": "code",
   "execution_count": 9,
   "metadata": {},
   "outputs": [],
   "source": [
    "len(lists)\n",
    "qtrs = lists['Net interest income'].keys()[2:]"
   ]
  },
  {
   "cell_type": "code",
   "execution_count": 10,
   "metadata": {},
   "outputs": [
    {
     "data": {
      "text/plain": [
       "'$78,648,000,000'"
      ]
     },
     "execution_count": 10,
     "metadata": {},
     "output_type": "execute_result"
    }
   ],
   "source": [
    "lists[\"Total noninterest expense\"][qtrs[0]]"
   ]
  },
  {
   "cell_type": "markdown",
   "metadata": {},
   "source": [
    "#### PPNR - Pre Provision Net Revenue"
   ]
  },
  {
   "cell_type": "code",
   "execution_count": 11,
   "metadata": {},
   "outputs": [],
   "source": [
    "netIntInc = [clean_vals(x) for x in lists['Net interest income'][2:]]\n",
    "nonIntInc = [clean_vals(x) for x in lists['Total noninterest income'][2:]]\n",
    "nonIntExp = [clean_vals(x) for x in lists['Total noninterest expense'][2:]]\n",
    "addNonIntInc = [clean_vals(x) for x in lists['Additional Noninterest Income'][2:]]\n",
    "addNonIntExp = [clean_vals(x) for x in lists['Additional noninterest expense'][2:]]\n",
    "# doesnt have losses projected for operational risk"
   ]
  },
  {
   "cell_type": "code",
   "execution_count": 12,
   "metadata": {},
   "outputs": [],
   "source": [
    "ppnr = [netIntInc[i] + nonIntInc[i] + addNonIntInc[i] - nonIntExp[i] - addNonIntExp[i] for i in range(len(qtrs))]\n",
    "#list of ppnr for each qtr : zip with qtrs"
   ]
  },
  {
   "cell_type": "code",
   "execution_count": 13,
   "metadata": {},
   "outputs": [
    {
     "data": {
      "text/plain": [
       "True"
      ]
     },
     "execution_count": 13,
     "metadata": {},
     "output_type": "execute_result"
    }
   ],
   "source": [
    "len(ppnr) == len(qtrs) #sanity check - for my sanity:)"
   ]
  },
  {
   "cell_type": "code",
   "execution_count": 16,
   "metadata": {},
   "outputs": [
    {
     "data": {
      "text/plain": [
       "[71579000000,\n",
       " 57628000000,\n",
       " 39044000000,\n",
       " 18162000000,\n",
       " 51630000000,\n",
       " 36025000000,\n",
       " 23628000000,\n",
       " 10907000000,\n",
       " 40851000000,\n",
       " 33007000000,\n",
       " 22039000000,\n",
       " 11759000000,\n",
       " 40846000000,\n",
       " 31271000000,\n",
       " 21696000000,\n",
       " 11126000000,\n",
       " 39441000000,\n",
       " 29841000000,\n",
       " 18736000000,\n",
       " 8606000000,\n",
       " 38175000000,\n",
       " 31690000000,\n",
       " 21276000000,\n",
       " 9769000000,\n",
       " 36200000000,\n",
       " 27639000000,\n",
       " 18389000000,\n",
       " 8396000000,\n",
       " 33739000000,\n",
       " 25875000000,\n",
       " 18135000000,\n",
       " 7925000000,\n",
       " 26263000000,\n",
       " 18830000000,\n",
       " 14314000000,\n",
       " 7004000000,\n",
       " 22026000000,\n",
       " 18102000000,\n",
       " 12566000000,\n",
       " 5179000000,\n",
       " 21492000000,\n",
       " 10363000000,\n",
       " 14716000000,\n",
       " 7136000000,\n",
       " 16068000000,\n",
       " 12297000000,\n",
       " 6198000000,\n",
       " 2756000000,\n",
       " 16705000000,\n",
       " 13179000000,\n",
       " 7242000000,\n",
       " 3844000000,\n",
       " 20649000000,\n",
       " 16269000000,\n",
       " 11346000000,\n",
       " 4819000000,\n",
       " 36535000000,\n",
       " 28967000000,\n",
       " 19292000000,\n",
       " 11485000000,\n",
       " 32245000000,\n",
       " 20731000000,\n",
       " 14631000000,\n",
       " 8319000000,\n",
       " 25225000000,\n",
       " 18430000000,\n",
       " 13478000000,\n",
       " 6813000000,\n",
       " 20516000000,\n",
       " 15398000000,\n",
       " 10734000000,\n",
       " 5650000000,\n",
       " 12875000000,\n",
       " 8971000000,\n",
       " 4534000000,\n",
       " 3925000000,\n",
       " 2338000000,\n",
       " -64000000,\n",
       " 416000000,\n",
       " 1849000000,\n",
       " 8478000000,\n",
       " 6444000000,\n",
       " 4536000000,\n",
       " 2104000000,\n",
       " 2264000000,\n",
       " 2563000000,\n",
       " 6306000000,\n",
       " 7191000000,\n",
       " 3605000000,\n",
       " 3973000000,\n",
       " 1699000000,\n",
       " 2377000000,\n",
       " 1869000000,\n",
       " 2748000000]"
      ]
     },
     "execution_count": 16,
     "metadata": {},
     "output_type": "execute_result"
    }
   ],
   "source": [
    "ppnr"
   ]
  },
  {
   "cell_type": "markdown",
   "metadata": {},
   "source": [
    "#### Pre Tax Net Income"
   ]
  },
  {
   "cell_type": "code",
   "execution_count": 14,
   "metadata": {},
   "outputs": [],
   "source": [
    "def loss_from_gnl(gnl):\n",
    "    \n",
    "    losses = [] \n",
    "    for x in gnl:\n",
    "        if x < 0:\n",
    "            loss = x\n",
    "        if x >= 0:\n",
    "            loss = 0\n",
    "        losses.append(loss)\n",
    "    return losses"
   ]
  },
  {
   "cell_type": "code",
   "execution_count": 15,
   "metadata": {},
   "outputs": [],
   "source": [
    "#DRY\n",
    "preTaxOperInc = [clean_vals(x) for x in lists['Pre-tax net operating income'][2:]]\n",
    "loanProvisions = [clean_vals(x) for x in lists['Provision for loan and lease losses'][2:]]\n",
    "creditGnL = [clean_vals(x) for x in lists['Net gains (losses) on sales of loans'][2:]] # has both gains, losses\n",
    "creditLosses = loss_from_gnl(creditGnL)\n",
    "secGnL = [clean_vals(x) for x in lists['Securities gains (losses)'][2:]]\n",
    "securityLosses = loss_from_gnl(secGnL)\n",
    "otherGnL = [clean_vals(x) for x in lists['Net gains (losses) on sales of other assets (excluding securities)'][2:]]\n",
    "otherLosses = loss_from_gnl(otherGnL)"
   ]
  },
  {
   "cell_type": "code",
   "execution_count": 16,
   "metadata": {},
   "outputs": [
    {
     "data": {
      "text/plain": [
       "True"
      ]
     },
     "execution_count": 16,
     "metadata": {},
     "output_type": "execute_result"
    }
   ],
   "source": [
    "#ptni = ppnr+pretaxoper - credl - secL - trading/counterparty losses\n",
    "# not sure if ptni takes only provisions for losses or losses themselves\n",
    "ptni = [ppnr[i] + preTaxOperInc[i] - loanProvisions[i] - creditLosses[i] - securityLosses[i] - otherLosses[i] for i in range(len(qtrs))]\n",
    "len(ptni) == len(qtrs)"
   ]
  },
  {
   "cell_type": "code",
   "execution_count": 30,
   "metadata": {},
   "outputs": [],
   "source": [
    "incomeTax =[clean_vals(x) for x in lists['Applicable income taxes'][2:]]\n",
    "lists['Minority interest net income'][2:] = lists['Minority interest net income'][2:].fillna(\"$0\")\n",
    "minorityInt = [clean_vals(x) for x in lists['Minority interest net income'][2:] if x != 'NaN'] # -ve to +ve, vice versa\n",
    "minorityIntNetInc = []\n",
    "for x in minorityInt:\n",
    "    if x < 0:\n",
    "        loss = abs(x)\n",
    "    if x >= 0:\n",
    "        loss = -x\n",
    "    minorityIntNetInc.append(loss)"
   ]
  },
  {
   "cell_type": "code",
   "execution_count": 31,
   "metadata": {},
   "outputs": [],
   "source": [
    "atinc = [ptni[i] - incomeTax[i] - minorityIntNetInc[i] for i in range(len(qtrs))]\n",
    "# after tax income"
   ]
  },
  {
   "cell_type": "code",
   "execution_count": null,
   "metadata": {},
   "outputs": [],
   "source": [
    "# now ppnr and ptni, also atinc if needed can be preojected over a frame, with macro vars \n",
    "#- > prj components first, then calc ptni etc"
   ]
  },
  {
   "cell_type": "markdown",
   "metadata": {},
   "source": [
    "## Net Charge-offs Approach\n",
    "Projecting losses over a horizon"
   ]
  },
  {
   "cell_type": "markdown",
   "metadata": {},
   "source": [
    "*The net charge-off approach projects losses over the projection horizon using models that capture\n",
    "the historical behavior of net charge-offs as a function of macroeconomic and financial market conditions and loan portfolio characteristics. The Federal Reserve models losses under the net\n",
    "charge-off approach for other consumer loans, business and corporate credit card loans, smallbusiness loans, student loans, and international retail loans.*"
   ]
  },
  {
   "cell_type": "markdown",
   "metadata": {},
   "source": [
    ">the FRB usually uses 13 quarters for the projection horizon"
   ]
  },
  {
   "cell_type": "code",
   "execution_count": null,
   "metadata": {},
   "outputs": [],
   "source": [
    "# we have percentages:')"
   ]
  },
  {
   "cell_type": "markdown",
   "metadata": {},
   "source": [
    "## Projections"
   ]
  },
  {
   "cell_type": "code",
   "execution_count": 32,
   "metadata": {},
   "outputs": [
    {
     "data": {
      "text/plain": [
       "'Now, in projecting ppnr, we can use a more granular method, wherein we project about 21-24 different \\nvariables that make up the components of ppnr, but we will go with the mid-lecel component projections'"
      ]
     },
     "execution_count": 32,
     "metadata": {},
     "output_type": "execute_result"
    }
   ],
   "source": [
    "\"\"\"Now, in projecting ppnr, we can use a more granular method, wherein we project about 21-24 different \n",
    "variables that make up the components of ppnr, but we will go with the mid-lecel component projections\n",
    "Loss: no normalisation\n",
    "FRB says it uses autoregressive models:')\"\"\""
   ]
  },
  {
   "cell_type": "code",
   "execution_count": null,
   "metadata": {},
   "outputs": [],
   "source": [
    "# According to FRB the key macroeconomic regressors for ppnr:\n",
    "\"\"\"\n",
    "BBB corporate yield\n",
    "5-year Treasury yield \n",
    "Market Volatility Index\n",
    "Real GDP growth\n",
    "10-year Treasury yield\n",
    "3-month Treasury rate\n",
    "Unemployment rate\n",
    "\"\"\""
   ]
  },
  {
   "cell_type": "code",
   "execution_count": null,
   "metadata": {},
   "outputs": [],
   "source": [
    "# statsmodel - AutoReg \n",
    "# arima\n",
    "# do only ppnr - for 1 bank, project for the 5 vars, then recalc ppnr for each qtr, \n",
    "#then do losses over proj horizon - 13 qtrs: ie.,\n",
    "#  (i m thinking) sum (supervisory)(what should have been) - sum(adeverse)"
   ]
  }
 ],
 "metadata": {
  "kernelspec": {
   "display_name": "Python 3",
   "language": "python",
   "name": "python3"
  },
  "language_info": {
   "codemirror_mode": {
    "name": "ipython",
    "version": 3
   },
   "file_extension": ".py",
   "mimetype": "text/x-python",
   "name": "python",
   "nbconvert_exporter": "python",
   "pygments_lexer": "ipython3",
   "version": "3.9.12"
  }
 },
 "nbformat": 4,
 "nbformat_minor": 2
}
