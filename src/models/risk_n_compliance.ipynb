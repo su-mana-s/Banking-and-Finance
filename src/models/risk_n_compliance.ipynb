{
 "cells": [
  {
   "cell_type": "code",
   "execution_count": 2,
   "metadata": {},
   "outputs": [],
   "source": [
    "import pandas as pd"
   ]
  },
  {
   "cell_type": "code",
   "execution_count": 3,
   "metadata": {},
   "outputs": [],
   "source": [
    "# there are ratios in the data, can they be used?\n",
    "# (I dont think interpretations alone are going to cut it)\n",
    "# So what can I do with these ratios?"
   ]
  },
  {
   "cell_type": "code",
   "execution_count": 4,
   "metadata": {},
   "outputs": [],
   "source": [
    "# ooh, if I can find something like LCR(ofc, excepting other ratios such as quick), then I can generate a \n",
    "# basic basel report> bool:compliant/not\n",
    "# you dont really need uslocs for this cos you dont need large time data, you are calculating assets for a point\n",
    "# so, use balance sheets"
   ]
  },
  {
   "cell_type": "code",
   "execution_count": 5,
   "metadata": {},
   "outputs": [
    {
     "data": {
      "text/plain": [
       "'I can do simple metrics calculaitons and maybe predict them, but the regression does not seem to be working'"
      ]
     },
     "execution_count": 5,
     "metadata": {},
     "output_type": "execute_result"
    }
   ],
   "source": [
    "\"\"\"I can do simple metrics calculaitons and maybe predict them, but the regression does not seem to be working\"\"\""
   ]
  },
  {
   "cell_type": "code",
   "execution_count": 6,
   "metadata": {},
   "outputs": [],
   "source": [
    "# quick ratio, cash ratio, net working capital ratio, curretn ratio vs liq ratio\n",
    "\n",
    "#Tier 1 (core) risk-based capital\n",
    "#Tier 2 risk-based capital\n",
    "#Equity capital to assets\n",
    "#Core capital (leverage) ratio"
   ]
  },
  {
   "cell_type": "code",
   "execution_count": 7,
   "metadata": {},
   "outputs": [],
   "source": [
    "# commonstk = 3020000000\n",
    "# toteqtycap = 236206000000\n",
    "# riskwtd_assets = 1394763000000\n",
    "# toteqtycap/riskwtd_assets * 100"
   ]
  },
  {
   "cell_type": "markdown",
   "metadata": {},
   "source": [
    "## Basic Stats Analysis"
   ]
  },
  {
   "cell_type": "code",
   "execution_count": 8,
   "metadata": {},
   "outputs": [],
   "source": [
    "df = pd.read_csv(\"../../data/raw/fin_statements/bofa_bs.csv\")"
   ]
  },
  {
   "cell_type": "code",
   "execution_count": 9,
   "metadata": {},
   "outputs": [
    {
     "data": {
      "text/plain": [
       "'Last col -20 is all wrong, actually -grey cols'"
      ]
     },
     "execution_count": 9,
     "metadata": {},
     "output_type": "execute_result"
    }
   ],
   "source": [
    "df.head(10)\n",
    "\"\"\"Last col -20 is all wrong, actually -grey cols\"\"\""
   ]
  },
  {
   "cell_type": "markdown",
   "metadata": {},
   "source": [
    "### Liquidity"
   ]
  },
  {
   "cell_type": "code",
   "execution_count": 10,
   "metadata": {},
   "outputs": [],
   "source": [
    "ca = ['Cash, Cash Equivalents & Federal Funds Sold',  'Available for Sale Securities',\n",
    "      'Trading Securities', 'Other Short Term Investments', 'Loans Held for Sale', 'Accounts receivable', \n",
    "      'Other Receivables', 'Other Assets', 'Derivative Assets', 'Held To Maturity Securities']\n",
    "\n",
    "# cce: 'Cash And Cash Equivalents', 'Cash', 'Cash And Due from Banks','Interest Bearing Deposits Assets', 'Money Market Investments',\n",
    "\n",
    " # this includes cash, cash eq, marketable securities, accs recievable\n",
    "# I am not really seeing prepaid expenses or inventory on the balance sheet - they all seem quick enough to me\n",
    "# or shld I split qa along trading securities, other short term inv, loans held for sale\n",
    "qa = ['Cash, Cash Equivalents & Federal Funds Sold', 'Available for Sale Securities',\n",
    "      'Trading Securities', 'Accounts receivable']\n",
    "\n",
    "\n",
    "\n",
    "cl = ['Total Deposits','Federal Funds Purchased And Securities Sold Under Agreement To Repurchase', 'Current Accrued Expenses',\n",
    "      'Current Debt And Capital Lease Obligation', 'Trading Liabilities', 'Derivative Product Liabilities', 'Other Liabilities']\n",
    "# ambiguous = derviative assets, HMS, \n"
   ]
  },
  {
   "cell_type": "markdown",
   "metadata": {},
   "source": [
    "#### Quick ratio & Current Ratio"
   ]
  },
  {
   "cell_type": "code",
   "execution_count": 11,
   "metadata": {},
   "outputs": [],
   "source": [
    "def get_qancl(df): # all rows of quick a and curr liab, ca for all banks\n",
    "    quick_assets = []\n",
    "    current_liabilities = []\n",
    "    current_assets = []\n",
    "    for idx, row in df.iterrows():\n",
    "        if row['Breakdown'] in qa:\n",
    "            quick_assets.append(row)\n",
    "        if row[\"Breakdown\"] in cl:\n",
    "            current_liabilities.append(row)\n",
    "        if row[\"Breakdown\"] in ca:\n",
    "            current_assets.append(row)\n",
    "    return quick_assets, current_assets, current_liabilities\n",
    "    \n",
    "    # len(current_assets), len(current_liabilities)\n"
   ]
  },
  {
   "cell_type": "code",
   "execution_count": 12,
   "metadata": {},
   "outputs": [],
   "source": [
    "def get_qancl_yr(yr, bank, quick_assets, current_assets, current_liabilities): # total canl for yr \n",
    "    # pass yr as index : '23-2, '22 - 3, '21-4, '20-5 \n",
    "    qa_yr = 0\n",
    "    cl_yr = 0\n",
    "    ca_yr = 0\n",
    "    for asset in quick_assets:\n",
    "        if asset[1] == bank:\n",
    "            print(asset[yr])\n",
    "            val = int(asset[yr].replace(',', \"\").replace(\"-\", \"-1\"))\n",
    "            if val == -1:\n",
    "                for i in range(2, 6):\n",
    "                    if i != yr:\n",
    "                        val += int(asset[i].replace(',', \"\")) \n",
    "                val = val/3\n",
    "            qa_yr += val\n",
    "\n",
    "    \n",
    "    for lia in current_liabilities:\n",
    "        if asset[1] == bank:\n",
    "            val = int(lia[2].replace(',', \"\").replace(\"-\", \"-1\"))\n",
    "            if val == -1:\n",
    "                for i in range(2, 6):\n",
    "                    if i != yr:\n",
    "                        val += int(asset[i].replace(',', \"\"))\n",
    "                val = val/3\n",
    "            cl_yr += val\n",
    "\n",
    "    for asset in current_assets:\n",
    "        if asset[1] == bank:\n",
    "            val = int(asset[yr].replace(',', \"\").replace(\"-\", \"-1\"))\n",
    "            if val == -1:\n",
    "                for i in range(2, 6):\n",
    "                    if i != yr:\n",
    "                        val += int(asset[i].replace(',', \"\")) \n",
    "                val = val/3\n",
    "            ca_yr += val\n",
    "\n",
    "    return qa_yr*1000, ca_yr*1000, cl_yr*1000  # for yr for bank\n",
    "# all yf values are in thousands\n",
    "\n"
   ]
  },
  {
   "cell_type": "code",
   "execution_count": 13,
   "metadata": {},
   "outputs": [
    {
     "name": "stdout",
     "output_type": "stream",
     "text": [
      "606,085,000\n",
      "143,646,000\n",
      "8,895,000\n",
      "72,263,000\n"
     ]
    }
   ],
   "source": [
    "quick_assets, current_assets, current_liabilities = get_qancl(df)\n",
    "qa_23, ca_23, cl_23 = get_qancl_yr(4, 'BAC', quick_assets, current_assets, current_liabilities)\n",
    "quick_ratio = qa_23/cl_23 \n",
    "current_ratio = ca_23/cl_23"
   ]
  },
  {
   "cell_type": "code",
   "execution_count": 14,
   "metadata": {},
   "outputs": [
    {
     "data": {
      "text/plain": [
       "(0.32866746899606525, 830.889, 2528.0536663333337)"
      ]
     },
     "execution_count": 14,
     "metadata": {},
     "output_type": "execute_result"
    }
   ],
   "source": [
    "quick_ratio, qa_23/10**9, cl_23/10**9"
   ]
  },
  {
   "cell_type": "code",
   "execution_count": 15,
   "metadata": {},
   "outputs": [
    {
     "data": {
      "text/plain": [
       "(0.8455754039036849, 2137.66)"
      ]
     },
     "execution_count": 15,
     "metadata": {},
     "output_type": "execute_result"
    }
   ],
   "source": [
    "current_ratio, ca_23/10**9"
   ]
  },
  {
   "cell_type": "code",
   "execution_count": 16,
   "metadata": {},
   "outputs": [],
   "source": [
    "# the grey cols are wrong - rescrape and check incom, cash flow also :==="
   ]
  },
  {
   "cell_type": "markdown",
   "metadata": {},
   "source": [
    "#### Other Ratios"
   ]
  },
  {
   "cell_type": "code",
   "execution_count": null,
   "metadata": {},
   "outputs": [],
   "source": [
    "# get from data directly and analyse"
   ]
  },
  {
   "cell_type": "markdown",
   "metadata": {},
   "source": [
    "## Compliance"
   ]
  },
  {
   "cell_type": "markdown",
   "metadata": {},
   "source": [
    "### CAR - Capital Adequacy\n",
    "*Under Basel III, all banks are required to have a Capital Adequacy Ratio of at least 8%*"
   ]
  },
  {
   "cell_type": "code",
   "execution_count": 3,
   "metadata": {},
   "outputs": [],
   "source": [
    "basic = pd.read_csv(\"../../data/interim/US_Banks_Basic.csv\")"
   ]
  },
  {
   "cell_type": "code",
   "execution_count": 4,
   "metadata": {},
   "outputs": [],
   "source": [
    "t1 = '\"Tier 1 (core) risk-based capital\"'\n",
    "t2 = '\"Tier 2 risk-based capital\"'\n",
    "rwa = '\"Total risk weighted assets\"'"
   ]
  },
  {
   "cell_type": "code",
   "execution_count": 5,
   "metadata": {},
   "outputs": [],
   "source": [
    "# for all banks\n",
    "def get_car():\n",
    "    queries = [t1, t2, rwa]\n",
    "    banks = basic.bank.unique()\n",
    "    car = pd.DataFrame()\n",
    "    for query in queries:\n",
    "        car_temp = basic.query(f\"tag == {query}\")\n",
    "        car = pd.concat([car, car_temp], ignore_index=True)\n",
    "    # for bank in banks:# calc car\n",
    "    bank_cars = {}\n",
    "    for idx, row in car.iterrows():\n",
    "        b = row['bank']\n",
    "        if b not in bank_cars:\n",
    "            bank_cars[b] = row.iloc[2:]\n",
    "        else:\n",
    "            if row['tag'] == \"Tier 2 risk-based capital\":\n",
    "                tier2 = row.iloc[2:]\n",
    "                num = bank_cars[b]\n",
    "                bank_cars[b] = [num[i] + tier2[i] for i in range(len(tier2))]\n",
    "            if row['tag'] == 'Total risk weighted assets':\n",
    "                weighted = row.iloc[2:]\n",
    "                num = bank_cars[b]\n",
    "                bank_cars[b] = [num[i] / weighted[i] for i in range(len(tier2))]\n",
    "                \n",
    "    return car, bank_cars\n",
    "car_df, bank_cars = get_car()\n"
   ]
  },
  {
   "cell_type": "code",
   "execution_count": 6,
   "metadata": {},
   "outputs": [
    {
     "data": {
      "text/plain": [
       "[0.17345533056157378,\n",
       " 0.18453470338218325,\n",
       " 0.18175139303629784,\n",
       " 0.1844286266329814,\n",
       " 0.1806011052693971,\n",
       " 0.17477219653253404]"
      ]
     },
     "execution_count": 6,
     "metadata": {},
     "output_type": "execute_result"
    }
   ],
   "source": [
    "(bank_cars['jpmorgan-chase-bank'][:6])"
   ]
  },
  {
   "cell_type": "code",
   "execution_count": 11,
   "metadata": {},
   "outputs": [
    {
     "name": "stdout",
     "output_type": "stream",
     "text": [
      "Compliant: 11.127689518782852%\n"
     ]
    }
   ],
   "source": [
    "def car_comp(basic, bank, qtr):\n",
    "    car_df, bank_cars = get_car()\n",
    "    cars = bank_cars[bank]\n",
    "\n",
    "    qtrs = basic.columns[2:].to_list()\n",
    "    qtr_idx = qtrs.index(f'{qtr}')\n",
    "\n",
    "    if cars[qtr_idx]*100 > 8:\n",
    "        print(f\"Compliant: {cars[qtr_idx]*100}%\")\n",
    "    else:\n",
    "        print(f\"Not Compliant: {cars[qtr_idx]*100}%\")\n",
    "        \n",
    "\n",
    "bank = 'jpmorgan-chase-bank'\n",
    "qtr = \"2002-12-31\"\n",
    "car_comp(basic, bank, qtr)"
   ]
  },
  {
   "cell_type": "markdown",
   "metadata": {},
   "source": [
    "### But, Is the Bank Large Enough?\n",
    "*Under the Federal Reserve Board's capital framework for bank holding companies, covered savings and loan holding companies, and U.S. intermediate holding companies with $100 billion or more in total consolidated assets, capital requirements are in part determined by the supervisory stress test results.*"
   ]
  },
  {
   "cell_type": "code",
   "execution_count": 95,
   "metadata": {},
   "outputs": [],
   "source": [
    "def check_large(bank):\n",
    "    totalAssets = basic.query(f\"tag == 'Total Assets:'\")\n",
    "    isLarge = {}\n",
    "    for idx, row in totalAssets.iterrows():\n",
    "        b = row['bank']\n",
    "        assets = row.iloc[2:]\n",
    "        bools = []\n",
    "        for asset in assets:\n",
    "            if asset > 100*10**9:\n",
    "                bools.append('L')\n",
    "            else:\n",
    "                bools.append('NL')\n",
    "        isLarge[b] = bools\n",
    "    return isLarge[bank]\n",
    "isLarge = check_large('jpmorgan-chase-bank')\n"
   ]
  },
  {
   "cell_type": "markdown",
   "metadata": {},
   "source": [
    "### The Capital Ratios "
   ]
  },
  {
   "cell_type": "markdown",
   "metadata": {},
   "source": [
    "*Under the guidelines, banking organizations are required to maintain a minimum Total risk-based capital ratio (total capital to risk-weighted assets) of 8% and a Tier 1 risk-based capital ratio of 4%.*"
   ]
  },
  {
   "cell_type": "code",
   "execution_count": 124,
   "metadata": {},
   "outputs": [],
   "source": [
    "t1cr = '\"Tier 1 risk-based capital ratio\"'\n",
    "t1lever = '\"Core capital (leverage) ratio\"'\n",
    "totCapR = '\"Total risk-based capital ratio\"'\n",
    "def get_capr():\n",
    "    queries = [t1cr, t1lever, totCapR]\n",
    "    ratios = pd.DataFrame()\n",
    "    for query in queries:\n",
    "        r_temp = basic.query(f\"tag == {query}\")\n",
    "        ratios = pd.concat([ratios,r_temp], ignore_index=True)\n",
    "    return ratios\n",
    "\n",
    "rats = get_capr()\n",
    "\n",
    "def isCompliant(ratio_df, bank):\n",
    "    isLarge = check_large(bank)\n",
    "    bank_r = ratio_df.query(f\"bank == '{bank}'\")\n",
    "    t1crcomp = []\n",
    "    t1lcomp = []\n",
    "    totcomp = []\n",
    "    for idx, row in bank_r.iterrows():\n",
    "        if row[\"tag\"] == 'Tier 1 risk-based capital ratio':\n",
    "            t1r = row.iloc[2:]\n",
    "            for i in range(len(t1r)):\n",
    "                if isLarge[i] == 'L':\n",
    "                    if t1r[i] > 6: # basel 3 norms\n",
    "                        t1crcomp.append(True)\n",
    "                    else:\n",
    "                        t1crcomp.append(False)\n",
    "                else:\n",
    "                    t1crcomp.append('notLarge')\n",
    "    \n",
    "        if row[\"tag\"] == \"Core capital (leverage) ratio\": # > 5%\n",
    "            t1r = row.iloc[2:]\n",
    "            \n",
    "            for i in range(len(t1r)):\n",
    "                if isLarge[i] == 'L':\n",
    "                    if t1r[i] > 5:\n",
    "                        t1lcomp.append(True)\n",
    "                    else:\n",
    "                        t1lcomp.append(False)\n",
    "                else:\n",
    "                    t1lcomp.append('notLarge')\n",
    "                \n",
    "        if row[\"tag\"] == \"Total risk-based capital ratio\": \n",
    "            t1r = row.iloc[2:]\n",
    "            for i in range(len(t1r)):\n",
    "                if isLarge[i] == 'L':\n",
    "                    if t1r[i] > 8:\n",
    "                        totcomp.append(True)\n",
    "                    else:\n",
    "                        totcomp.append(False)\n",
    "                else:\n",
    "                    totcomp.append('notLarge')\n",
    "        \n",
    "    return t1crcomp, totcomp, t1lcomp\n"
   ]
  },
  {
   "cell_type": "code",
   "execution_count": 131,
   "metadata": {},
   "outputs": [
    {
     "name": "stdout",
     "output_type": "stream",
     "text": [
      "Tier 1 Capital Ratio(RB): notLarge, Total Capital Ratio(RB): notLarge, Tier 1 Leverage Ratio: notLarge\n"
     ]
    }
   ],
   "source": [
    "def get_comp(ratio_df, bank, qtr):\n",
    "    t1, tot, t1l = isCompliant(ratio_df, f'{bank}')\n",
    "    qtrs = ratio_df.columns[2:].to_list()\n",
    "    qtr_idx = qtrs.index(f'{qtr}')\n",
    "    print( f\"Tier 1 Capital Ratio(RB): {t1[qtr_idx]}, Total Capital Ratio(RB): {tot[qtr_idx]}, Tier 1 Leverage Ratio: {t1l[qtr_idx]}\")\n",
    "\n",
    "\n",
    "ratio_df = get_capr()\n",
    "qtr = \"2023-06-30\"\n",
    "bank = \"sumitomo-mitsui-trust-bank-u-s-a-limited\"\n",
    "get_comp(ratio_df, bank, qtr)"
   ]
  },
  {
   "cell_type": "code",
   "execution_count": 127,
   "metadata": {},
   "outputs": [
    {
     "data": {
      "text/plain": [
       "array(['jpmorgan-chase-bank', 'bank-of-america', 'u-s-bank',\n",
       "       'goldman-sachs-bank-usa', 'hsbc-bank-usa', 'morgan-stanley-bank',\n",
       "       'mitsubishi-ufj-trust-banking-corporation-u-s-a', 'pnc-bank',\n",
       "       'charles-schwab-bank-ssb',\n",
       "       'sumitomo-mitsui-trust-bank-u-s-a-limited', 'truist-bank',\n",
       "       'wells-fargo-bank', 'td-bank', 'the-huntington-national-bank',\n",
       "       'citizens-bank-57957', 'citibank', 'fifth-third-bank',\n",
       "       'regions-bank', 'comerica-bank', 'american-express-national-bank',\n",
       "       'capital-one', 'the-bank-of-new-york-mellon'], dtype=object)"
      ]
     },
     "execution_count": 127,
     "metadata": {},
     "output_type": "execute_result"
    }
   ],
   "source": [
    "banks = basic.bank.unique()\n",
    "banks"
   ]
  },
  {
   "cell_type": "markdown",
   "metadata": {},
   "source": [
    "## Extract Ratios"
   ]
  },
  {
   "cell_type": "code",
   "execution_count": 33,
   "metadata": {},
   "outputs": [
    {
     "data": {
      "text/html": [
       "<div>\n",
       "<style scoped>\n",
       "    .dataframe tbody tr th:only-of-type {\n",
       "        vertical-align: middle;\n",
       "    }\n",
       "\n",
       "    .dataframe tbody tr th {\n",
       "        vertical-align: top;\n",
       "    }\n",
       "\n",
       "    .dataframe thead th {\n",
       "        text-align: right;\n",
       "    }\n",
       "</style>\n",
       "<table border=\"1\" class=\"dataframe\">\n",
       "  <thead>\n",
       "    <tr style=\"text-align: right;\">\n",
       "      <th></th>\n",
       "      <th>Tag</th>\n",
       "      <th>Bank</th>\n",
       "      <th>2023-12-31</th>\n",
       "      <th>2023-09-30</th>\n",
       "      <th>2023-06-30</th>\n",
       "      <th>2023-03-31</th>\n",
       "      <th>2022-12-31</th>\n",
       "      <th>2022-09-30</th>\n",
       "      <th>2022-06-30</th>\n",
       "      <th>2022-03-31</th>\n",
       "      <th>...</th>\n",
       "      <th>2002-12-31</th>\n",
       "      <th>2001-12-31</th>\n",
       "      <th>2000-12-31</th>\n",
       "      <th>1999-12-31</th>\n",
       "      <th>1998-12-31</th>\n",
       "      <th>1997-12-31</th>\n",
       "      <th>1996-12-31</th>\n",
       "      <th>1995-12-31</th>\n",
       "      <th>1994-12-31</th>\n",
       "      <th>1993-12-31</th>\n",
       "    </tr>\n",
       "  </thead>\n",
       "  <tbody>\n",
       "    <tr>\n",
       "      <th>0</th>\n",
       "      <td># of Employees:</td>\n",
       "      <td>jpmorgan-chase-bank</td>\n",
       "      <td>226,822</td>\n",
       "      <td>226,649</td>\n",
       "      <td>219,830</td>\n",
       "      <td>221,852</td>\n",
       "      <td>220,271</td>\n",
       "      <td>216,524</td>\n",
       "      <td>210,348</td>\n",
       "      <td>207,949</td>\n",
       "      <td>...</td>\n",
       "      <td>77,286</td>\n",
       "      <td>67,401</td>\n",
       "      <td>56,567</td>\n",
       "      <td>41,563</td>\n",
       "      <td>42,229</td>\n",
       "      <td>41,670</td>\n",
       "      <td>41,615</td>\n",
       "      <td>24,042</td>\n",
       "      <td>25,546</td>\n",
       "      <td>26,409</td>\n",
       "    </tr>\n",
       "    <tr>\n",
       "      <th>1</th>\n",
       "      <td>Total Assets:</td>\n",
       "      <td>jpmorgan-chase-bank</td>\n",
       "      <td>$3,395,126,000,000</td>\n",
       "      <td>$3,385,581,000,000</td>\n",
       "      <td>$3,382,195,000,000</td>\n",
       "      <td>$3,267,963,000,000</td>\n",
       "      <td>$3,201,942,000,000</td>\n",
       "      <td>$3,308,575,000,000</td>\n",
       "      <td>$3,380,824,000,000</td>\n",
       "      <td>$3,476,711,000,000</td>\n",
       "      <td>...</td>\n",
       "      <td>$621,962,000,000</td>\n",
       "      <td>$537,826,000,000</td>\n",
       "      <td>$377,116,000,000</td>\n",
       "      <td>$332,198,000,000</td>\n",
       "      <td>$296,717,000,000</td>\n",
       "      <td>$297,061,000,000</td>\n",
       "      <td>$272,429,000,000</td>\n",
       "      <td>$147,120,000,000</td>\n",
       "      <td>$135,742,000,000</td>\n",
       "      <td>$115,510,000,000</td>\n",
       "    </tr>\n",
       "  </tbody>\n",
       "</table>\n",
       "<p>2 rows × 96 columns</p>\n",
       "</div>"
      ],
      "text/plain": [
       "               Tag                 Bank          2023-12-31  \\\n",
       "0  # of Employees:  jpmorgan-chase-bank             226,822   \n",
       "1    Total Assets:  jpmorgan-chase-bank  $3,395,126,000,000   \n",
       "\n",
       "           2023-09-30          2023-06-30          2023-03-31  \\\n",
       "0             226,649             219,830             221,852   \n",
       "1  $3,385,581,000,000  $3,382,195,000,000  $3,267,963,000,000   \n",
       "\n",
       "           2022-12-31          2022-09-30          2022-06-30  \\\n",
       "0             220,271             216,524             210,348   \n",
       "1  $3,201,942,000,000  $3,308,575,000,000  $3,380,824,000,000   \n",
       "\n",
       "           2022-03-31  ...        2002-12-31        2001-12-31  \\\n",
       "0             207,949  ...            77,286            67,401   \n",
       "1  $3,476,711,000,000  ...  $621,962,000,000  $537,826,000,000   \n",
       "\n",
       "         2000-12-31        1999-12-31        1998-12-31        1997-12-31  \\\n",
       "0            56,567            41,563            42,229            41,670   \n",
       "1  $377,116,000,000  $332,198,000,000  $296,717,000,000  $297,061,000,000   \n",
       "\n",
       "         1996-12-31        1995-12-31        1994-12-31        1993-12-31  \n",
       "0            41,615            24,042            25,546            26,409  \n",
       "1  $272,429,000,000  $147,120,000,000  $135,742,000,000  $115,510,000,000  \n",
       "\n",
       "[2 rows x 96 columns]"
      ]
     },
     "execution_count": 33,
     "metadata": {},
     "output_type": "execute_result"
    }
   ],
   "source": [
    "basic = pd.read_csv(\"../../data/raw/uslocs/banks_basic_final.csv\")\n",
    "basic.head(2)"
   ]
  },
  {
   "cell_type": "code",
   "execution_count": 34,
   "metadata": {},
   "outputs": [],
   "source": [
    "def date_to_qtr(date):\n",
    "    yr = date[:4]\n",
    "    q = date[5:7]\n",
    "    if q == '12':\n",
    "        qtr = 'Q4'\n",
    "    if q == '09':\n",
    "        qtr = 'Q3'\n",
    "    if q == '06':\n",
    "        qtr = 'Q2'\n",
    "    if q == '03':\n",
    "        qtr = 'Q1'    \n",
    "    return (yr + \" \" + qtr)"
   ]
  },
  {
   "cell_type": "code",
   "execution_count": 35,
   "metadata": {},
   "outputs": [],
   "source": [
    "cols = basic.columns[2:]\n",
    "d2q = {col : date_to_qtr(col) for col in cols}\n",
    "basic = basic.rename(columns=d2q)"
   ]
  },
  {
   "cell_type": "code",
   "execution_count": 36,
   "metadata": {},
   "outputs": [],
   "source": [
    "basic = basic.fillna('0')"
   ]
  },
  {
   "cell_type": "code",
   "execution_count": 37,
   "metadata": {},
   "outputs": [
    {
     "data": {
      "text/html": [
       "<div>\n",
       "<style scoped>\n",
       "    .dataframe tbody tr th:only-of-type {\n",
       "        vertical-align: middle;\n",
       "    }\n",
       "\n",
       "    .dataframe tbody tr th {\n",
       "        vertical-align: top;\n",
       "    }\n",
       "\n",
       "    .dataframe thead th {\n",
       "        text-align: right;\n",
       "    }\n",
       "</style>\n",
       "<table border=\"1\" class=\"dataframe\">\n",
       "  <thead>\n",
       "    <tr style=\"text-align: right;\">\n",
       "      <th></th>\n",
       "      <th>Tag</th>\n",
       "      <th>Bank</th>\n",
       "      <th>2023 Q4</th>\n",
       "      <th>2023 Q3</th>\n",
       "      <th>2023 Q2</th>\n",
       "      <th>2023 Q1</th>\n",
       "      <th>2022 Q4</th>\n",
       "      <th>2022 Q3</th>\n",
       "      <th>2022 Q2</th>\n",
       "      <th>2022 Q1</th>\n",
       "      <th>...</th>\n",
       "      <th>2002 Q4</th>\n",
       "      <th>2001 Q4</th>\n",
       "      <th>2000 Q4</th>\n",
       "      <th>1999 Q4</th>\n",
       "      <th>1998 Q4</th>\n",
       "      <th>1997 Q4</th>\n",
       "      <th>1996 Q4</th>\n",
       "      <th>1995 Q4</th>\n",
       "      <th>1994 Q4</th>\n",
       "      <th>1993 Q4</th>\n",
       "    </tr>\n",
       "  </thead>\n",
       "  <tbody>\n",
       "    <tr>\n",
       "      <th>0</th>\n",
       "      <td># of Employees:</td>\n",
       "      <td>jpmorgan-chase-bank</td>\n",
       "      <td>226,822</td>\n",
       "      <td>226,649</td>\n",
       "      <td>219,830</td>\n",
       "      <td>221,852</td>\n",
       "      <td>220,271</td>\n",
       "      <td>216,524</td>\n",
       "      <td>210,348</td>\n",
       "      <td>207,949</td>\n",
       "      <td>...</td>\n",
       "      <td>77,286</td>\n",
       "      <td>67,401</td>\n",
       "      <td>56,567</td>\n",
       "      <td>41,563</td>\n",
       "      <td>42,229</td>\n",
       "      <td>41,670</td>\n",
       "      <td>41,615</td>\n",
       "      <td>24,042</td>\n",
       "      <td>25,546</td>\n",
       "      <td>26,409</td>\n",
       "    </tr>\n",
       "    <tr>\n",
       "      <th>1</th>\n",
       "      <td>Total Assets:</td>\n",
       "      <td>jpmorgan-chase-bank</td>\n",
       "      <td>$3,395,126,000,000</td>\n",
       "      <td>$3,385,581,000,000</td>\n",
       "      <td>$3,382,195,000,000</td>\n",
       "      <td>$3,267,963,000,000</td>\n",
       "      <td>$3,201,942,000,000</td>\n",
       "      <td>$3,308,575,000,000</td>\n",
       "      <td>$3,380,824,000,000</td>\n",
       "      <td>$3,476,711,000,000</td>\n",
       "      <td>...</td>\n",
       "      <td>$621,962,000,000</td>\n",
       "      <td>$537,826,000,000</td>\n",
       "      <td>$377,116,000,000</td>\n",
       "      <td>$332,198,000,000</td>\n",
       "      <td>$296,717,000,000</td>\n",
       "      <td>$297,061,000,000</td>\n",
       "      <td>$272,429,000,000</td>\n",
       "      <td>$147,120,000,000</td>\n",
       "      <td>$135,742,000,000</td>\n",
       "      <td>$115,510,000,000</td>\n",
       "    </tr>\n",
       "  </tbody>\n",
       "</table>\n",
       "<p>2 rows × 96 columns</p>\n",
       "</div>"
      ],
      "text/plain": [
       "               Tag                 Bank             2023 Q4  \\\n",
       "0  # of Employees:  jpmorgan-chase-bank             226,822   \n",
       "1    Total Assets:  jpmorgan-chase-bank  $3,395,126,000,000   \n",
       "\n",
       "              2023 Q3             2023 Q2             2023 Q1  \\\n",
       "0             226,649             219,830             221,852   \n",
       "1  $3,385,581,000,000  $3,382,195,000,000  $3,267,963,000,000   \n",
       "\n",
       "              2022 Q4             2022 Q3             2022 Q2  \\\n",
       "0             220,271             216,524             210,348   \n",
       "1  $3,201,942,000,000  $3,308,575,000,000  $3,380,824,000,000   \n",
       "\n",
       "              2022 Q1  ...           2002 Q4           2001 Q4  \\\n",
       "0             207,949  ...            77,286            67,401   \n",
       "1  $3,476,711,000,000  ...  $621,962,000,000  $537,826,000,000   \n",
       "\n",
       "            2000 Q4           1999 Q4           1998 Q4           1997 Q4  \\\n",
       "0            56,567            41,563            42,229            41,670   \n",
       "1  $377,116,000,000  $332,198,000,000  $296,717,000,000  $297,061,000,000   \n",
       "\n",
       "            1996 Q4           1995 Q4           1994 Q4           1993 Q4  \n",
       "0            41,615            24,042            25,546            26,409  \n",
       "1  $272,429,000,000  $147,120,000,000  $135,742,000,000  $115,510,000,000  \n",
       "\n",
       "[2 rows x 96 columns]"
      ]
     },
     "execution_count": 37,
     "metadata": {},
     "output_type": "execute_result"
    }
   ],
   "source": [
    "basic.head(2)"
   ]
  },
  {
   "cell_type": "code",
   "execution_count": 38,
   "metadata": {},
   "outputs": [
    {
     "data": {
      "text/html": [
       "<div>\n",
       "<style scoped>\n",
       "    .dataframe tbody tr th:only-of-type {\n",
       "        vertical-align: middle;\n",
       "    }\n",
       "\n",
       "    .dataframe tbody tr th {\n",
       "        vertical-align: top;\n",
       "    }\n",
       "\n",
       "    .dataframe thead th {\n",
       "        text-align: right;\n",
       "    }\n",
       "</style>\n",
       "<table border=\"1\" class=\"dataframe\">\n",
       "  <thead>\n",
       "    <tr style=\"text-align: right;\">\n",
       "      <th></th>\n",
       "      <th>Tag</th>\n",
       "      <th>Bank</th>\n",
       "      <th>2023 Q4</th>\n",
       "      <th>2023 Q3</th>\n",
       "      <th>2023 Q2</th>\n",
       "      <th>2023 Q1</th>\n",
       "      <th>2022 Q4</th>\n",
       "      <th>2022 Q3</th>\n",
       "      <th>2022 Q2</th>\n",
       "      <th>2022 Q1</th>\n",
       "      <th>...</th>\n",
       "      <th>2002 Q4</th>\n",
       "      <th>2001 Q4</th>\n",
       "      <th>2000 Q4</th>\n",
       "      <th>1999 Q4</th>\n",
       "      <th>1998 Q4</th>\n",
       "      <th>1997 Q4</th>\n",
       "      <th>1996 Q4</th>\n",
       "      <th>1995 Q4</th>\n",
       "      <th>1994 Q4</th>\n",
       "      <th>1993 Q4</th>\n",
       "    </tr>\n",
       "  </thead>\n",
       "  <tbody>\n",
       "    <tr>\n",
       "      <th>0</th>\n",
       "      <td>% insured</td>\n",
       "      <td>jpmorgan-chase-bank</td>\n",
       "      <td>39.75%</td>\n",
       "      <td>40.86%</td>\n",
       "      <td>41.00%</td>\n",
       "      <td>39.20%</td>\n",
       "      <td>39.39%</td>\n",
       "      <td>38.91%</td>\n",
       "      <td>38.10%</td>\n",
       "      <td>37.08%</td>\n",
       "      <td>...</td>\n",
       "      <td>0.00%</td>\n",
       "      <td>0.00%</td>\n",
       "      <td>0.00%</td>\n",
       "      <td>0.00%</td>\n",
       "      <td>0.00%</td>\n",
       "      <td>0.00%</td>\n",
       "      <td>0.00%</td>\n",
       "      <td>0.00%</td>\n",
       "      <td>0.00%</td>\n",
       "      <td>0.00%</td>\n",
       "    </tr>\n",
       "    <tr>\n",
       "      <th>1</th>\n",
       "      <td>Percentage of unprofitable institutions</td>\n",
       "      <td>jpmorgan-chase-bank</td>\n",
       "      <td>0.0000%</td>\n",
       "      <td>0.0000%</td>\n",
       "      <td>0.0000%</td>\n",
       "      <td>0.0000%</td>\n",
       "      <td>0.0000%</td>\n",
       "      <td>0.0000%</td>\n",
       "      <td>0</td>\n",
       "      <td>0</td>\n",
       "      <td>...</td>\n",
       "      <td>0</td>\n",
       "      <td>0</td>\n",
       "      <td>0</td>\n",
       "      <td>0</td>\n",
       "      <td>0</td>\n",
       "      <td>0</td>\n",
       "      <td>0</td>\n",
       "      <td>0</td>\n",
       "      <td>0</td>\n",
       "      <td>0</td>\n",
       "    </tr>\n",
       "    <tr>\n",
       "      <th>2</th>\n",
       "      <td>Yield on earning assets</td>\n",
       "      <td>jpmorgan-chase-bank</td>\n",
       "      <td>5.1189%</td>\n",
       "      <td>4.9590%</td>\n",
       "      <td>4.7678%</td>\n",
       "      <td>4.5497%</td>\n",
       "      <td>2.8446%</td>\n",
       "      <td>2.4275%</td>\n",
       "      <td>2.0780%</td>\n",
       "      <td>1.8937%</td>\n",
       "      <td>...</td>\n",
       "      <td>0</td>\n",
       "      <td>0</td>\n",
       "      <td>0</td>\n",
       "      <td>0</td>\n",
       "      <td>0</td>\n",
       "      <td>0</td>\n",
       "      <td>0</td>\n",
       "      <td>0</td>\n",
       "      <td>0</td>\n",
       "      <td>0</td>\n",
       "    </tr>\n",
       "    <tr>\n",
       "      <th>3</th>\n",
       "      <td>Cost of funding earning assets</td>\n",
       "      <td>jpmorgan-chase-bank</td>\n",
       "      <td>1.9710%</td>\n",
       "      <td>1.8481%</td>\n",
       "      <td>1.6997%</td>\n",
       "      <td>1.5120%</td>\n",
       "      <td>0.5278%</td>\n",
       "      <td>0.3192%</td>\n",
       "      <td>0.1539%</td>\n",
       "      <td>0.0796%</td>\n",
       "      <td>...</td>\n",
       "      <td>0</td>\n",
       "      <td>0</td>\n",
       "      <td>0</td>\n",
       "      <td>0</td>\n",
       "      <td>0</td>\n",
       "      <td>0</td>\n",
       "      <td>0</td>\n",
       "      <td>0</td>\n",
       "      <td>0</td>\n",
       "      <td>0</td>\n",
       "    </tr>\n",
       "    <tr>\n",
       "      <th>4</th>\n",
       "      <td>Net interest margin</td>\n",
       "      <td>jpmorgan-chase-bank</td>\n",
       "      <td>3.1479%</td>\n",
       "      <td>3.1109%</td>\n",
       "      <td>3.0680%</td>\n",
       "      <td>3.0377%</td>\n",
       "      <td>2.3167%</td>\n",
       "      <td>2.1083%</td>\n",
       "      <td>1.9241%</td>\n",
       "      <td>1.8141%</td>\n",
       "      <td>...</td>\n",
       "      <td>0</td>\n",
       "      <td>0</td>\n",
       "      <td>0</td>\n",
       "      <td>0</td>\n",
       "      <td>0</td>\n",
       "      <td>0</td>\n",
       "      <td>0</td>\n",
       "      <td>0</td>\n",
       "      <td>0</td>\n",
       "      <td>0</td>\n",
       "    </tr>\n",
       "  </tbody>\n",
       "</table>\n",
       "<p>5 rows × 96 columns</p>\n",
       "</div>"
      ],
      "text/plain": [
       "                                       Tag                 Bank  2023 Q4  \\\n",
       "0                                % insured  jpmorgan-chase-bank   39.75%   \n",
       "1  Percentage of unprofitable institutions  jpmorgan-chase-bank  0.0000%   \n",
       "2                  Yield on earning assets  jpmorgan-chase-bank  5.1189%   \n",
       "3           Cost of funding earning assets  jpmorgan-chase-bank  1.9710%   \n",
       "4                      Net interest margin  jpmorgan-chase-bank  3.1479%   \n",
       "\n",
       "   2023 Q3  2023 Q2  2023 Q1  2022 Q4  2022 Q3  2022 Q2  2022 Q1  ... 2002 Q4  \\\n",
       "0   40.86%   41.00%   39.20%   39.39%   38.91%   38.10%   37.08%  ...   0.00%   \n",
       "1  0.0000%  0.0000%  0.0000%  0.0000%  0.0000%        0        0  ...       0   \n",
       "2  4.9590%  4.7678%  4.5497%  2.8446%  2.4275%  2.0780%  1.8937%  ...       0   \n",
       "3  1.8481%  1.6997%  1.5120%  0.5278%  0.3192%  0.1539%  0.0796%  ...       0   \n",
       "4  3.1109%  3.0680%  3.0377%  2.3167%  2.1083%  1.9241%  1.8141%  ...       0   \n",
       "\n",
       "  2001 Q4 2000 Q4 1999 Q4 1998 Q4 1997 Q4 1996 Q4 1995 Q4 1994 Q4 1993 Q4  \n",
       "0   0.00%   0.00%   0.00%   0.00%   0.00%   0.00%   0.00%   0.00%   0.00%  \n",
       "1       0       0       0       0       0       0       0       0       0  \n",
       "2       0       0       0       0       0       0       0       0       0  \n",
       "3       0       0       0       0       0       0       0       0       0  \n",
       "4       0       0       0       0       0       0       0       0       0  \n",
       "\n",
       "[5 rows x 96 columns]"
      ]
     },
     "execution_count": 38,
     "metadata": {},
     "output_type": "execute_result"
    }
   ],
   "source": [
    "percentages = pd.DataFrame(columns=basic.columns) # for 1 bank, also appending rows cos its small\n",
    "bank = 'jpmorgan-chase-bank'\n",
    "for idx, row in basic.iterrows():\n",
    "    \n",
    "    if row['Bank'] == bank:\n",
    "        val = row['2023 Q4']\n",
    "        if val.find('%') != -1:\n",
    "            percentages.loc[percentages.shape[0]] = row.to_list()\n",
    "            # percentages = pd.concat([percentages, n_df], ignore_index=True, axis=0)\n",
    "percentages.head()"
   ]
  },
  {
   "cell_type": "code",
   "execution_count": 39,
   "metadata": {},
   "outputs": [
    {
     "data": {
      "text/plain": [
       "0                                             % insured\n",
       "1               Percentage of unprofitable institutions\n",
       "2                               Yield on earning assets\n",
       "3                        Cost of funding earning assets\n",
       "4                                   Net interest margin\n",
       "5                  Noninterest income to average assets\n",
       "6                 Noninterest expense to average assets\n",
       "7               Loan and lease loss provision to assets\n",
       "8                        Net operating income to assets\n",
       "9                                Return on assets (ROA)\n",
       "10                              Pretax return on assets\n",
       "11                               Return on Equity (ROE)\n",
       "12       Retained earnings to average equity (ytd only)\n",
       "13                             Net charge-offs to loans\n",
       "14             Credit loss provision to net charge-offs\n",
       "15             Earnings coverage of net charge-offs (x)\n",
       "16                                     Efficiency ratio\n",
       "17                      Assets per employee ($millions)\n",
       "18             Cash dividends to net income (ytd only)*\n",
       "19                              Loss allowance to loans\n",
       "20              Loan loss allowance to noncurrent loans\n",
       "21    Noncurrent assets plus other real estate owned...\n",
       "22                            Noncurrent loans to loans\n",
       "23                 Net loans and leases to total assets\n",
       "24                     Net loans and leases to deposits\n",
       "25                Net loans and leases to core deposits\n",
       "26              Total domestic deposits to total assets\n",
       "27                             Equity capital to assets\n",
       "28                        Core capital (leverage) ratio\n",
       "29                       Total risk-based capital ratio\n",
       "30                             Net charge-offs to loans\n",
       "31    Percentage Net Loans Charged-off: Total real e...\n",
       "32    Percentage Net Loans Charged-off:Construction ...\n",
       "33    Percentage Net Loans Charged-off: Commercial r...\n",
       "34    Percentage Net Loans Charged-off: Multi-family...\n",
       "35    Percentage Net Loans Charged-off: 1-4 family r...\n",
       "36    Percentage Net Loans Charged-off: Home equity ...\n",
       "37    All other 1-4 family - Percent of loans charge...\n",
       "38    Percentage Net Loans Charged-off: Commercial a...\n",
       "39    Percentage Net Loans Charged-off: Loans to ind...\n",
       "40    Percentage Net Loans Charged-off: Credit card ...\n",
       "41    Percentage Net Loans Charged-off: Other loans ...\n",
       "42    Percentage Net Loans Charged-off:Coml. RE not ...\n",
       "43                            Noncurrent loans to loans\n",
       "44       Percentage Loans Noncurrent: Real estate loans\n",
       "45    Percentage Loans Noncurrent:Construction & lan...\n",
       "46    Percentage Loans Noncurrent: Commercial real e...\n",
       "47    Percentage Loans Noncurrent: Multifamily resid...\n",
       "48    Percentage Loans Noncurrent: 1-4 family reside...\n",
       "49       Percentage Loans Noncurrent: Home equity loans\n",
       "50       Percent of loans noncurrent - All other family\n",
       "51    Percentage Loans noncurrent:Commercial and ind...\n",
       "52    Percentage Loans Noncurrent: Loans to individuals\n",
       "53       Percentage Loans Noncurrent: Credit card loans\n",
       "54    Percentage Loans Noncurrent: Other loans to in...\n",
       "55    Percentage Loans Noncurrent:Commercial RE not ...\n",
       "56    Wholly or partially US Gov. guaranteed noncurr...\n",
       "Name: Tag, dtype: object"
      ]
     },
     "execution_count": 39,
     "metadata": {},
     "output_type": "execute_result"
    }
   ],
   "source": [
    "percentages['Tag']"
   ]
  },
  {
   "cell_type": "code",
   "execution_count": null,
   "metadata": {},
   "outputs": [],
   "source": []
  }
 ],
 "metadata": {
  "kernelspec": {
   "display_name": "Python 3",
   "language": "python",
   "name": "python3"
  },
  "language_info": {
   "codemirror_mode": {
    "name": "ipython",
    "version": 3
   },
   "file_extension": ".py",
   "mimetype": "text/x-python",
   "name": "python",
   "nbconvert_exporter": "python",
   "pygments_lexer": "ipython3",
   "version": "3.9.12"
  }
 },
 "nbformat": 4,
 "nbformat_minor": 2
}
